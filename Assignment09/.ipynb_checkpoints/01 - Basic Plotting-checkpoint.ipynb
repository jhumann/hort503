{
 "cells": [
  {
   "cell_type": "markdown",
   "metadata": {
    "collapsed": true
   },
   "source": [
    "<table style=\"float:left; border:none\">\n",
    "   <tr style=\"border:none; background-color: #ffffff\">\n",
    "       <td style=\"border:none\">\n",
    "           <a href=\"http://bokeh.pydata.org/\">     \n",
    "           <img \n",
    "               src=\"assets/bokeh-transparent.png\" \n",
    "               style=\"width:50px\"\n",
    "           >\n",
    "           </a>    \n",
    "       </td>\n",
    "       <td style=\"border:none\">\n",
    "           <h1>Bokeh Tutorial</h1>\n",
    "       </td>\n",
    "   </tr>\n",
    "</table>\n",
    "\n",
    "<div style=\"float:right;\"><h2>01. Basic Plotting</h2></div>"
   ]
  },
  {
   "cell_type": "markdown",
   "metadata": {},
   "source": [
    "This section of the tutorial covers the [`bokeh.plotting`](http://bokeh.pydata.org/en/latest/docs/user_guide/plotting.html) \n",
    "interface. This interface is a \"mid-level\" interface, and the main idea can be described by the statement:\n",
    "\n",
    "**Starting from simple default figures (with sensible default tools, grids and axes), add markers and other shapes whose visual attributes are tied to directly data.**\n",
    "\n",
    "We will see that it is possible to customize and change all of the defaults, but having them means that it is possible to get up and running very quickly. "
   ]
  },
  {
   "cell_type": "markdown",
   "metadata": {},
   "source": [
    "# Imports and Setup\n",
    "\n",
    "When using the [`bokeh.plotting`](http://bokeh.pydata.org/en/latest/docs/user_guide/plotting.html) interface, there are a few common imports:\n",
    "* Use the [`figure`](http://bokeh.pydata.org/en/latest/docs/reference/plotting.html#bokeh.plotting.figure) function to  create new plot objects to work with. \n",
    "* Call the functions [`output_file`](http://bokeh.pydata.org/en/latest/docs/reference/resources_embedding.html#bokeh.io.output_file), [`output_notebook`](http://bokeh.pydata.org/en/latest/docs/reference/resources_embedding.html#bokeh.io.output_notebook), and [`output_server`](http://bokeh.pydata.org/en/latest/docs/reference/resources_embedding.html#bokeh.io.output_server) (possibly in combination) to tell Bokeh how to display or save output. \n",
    "* Execute [`show`](http://bokeh.pydata.org/en/latest/docs/reference/resources_embedding.html#bokeh.io.show) and  [`save`](http://bokeh.pydata.org/en/latest/docs/reference/resources_embedding.html#bokeh.io.save) to display or save plots and layouts."
   ]
  },
  {
   "cell_type": "code",
   "execution_count": 2,
   "metadata": {},
   "outputs": [],
   "source": [
    "from bokeh.io import output_notebook, show\n",
    "from bokeh.plotting import figure"
   ]
  },
  {
   "cell_type": "code",
   "execution_count": null,
   "metadata": {
    "collapsed": true
   },
   "outputs": [],
   "source": []
  },
  {
   "cell_type": "markdown",
   "metadata": {},
   "source": [
    "In this case, we are in the Jupyter notebook, so call `output_notebook()`. We only need to call this once, and all subsequent calls to `show()` will display inline in the notebook."
   ]
  },
  {
   "cell_type": "code",
   "execution_count": 3,
   "metadata": {},
   "outputs": [
    {
     "data": {
      "text/html": [
       "\n",
       "    <div class=\"bk-root\">\n",
       "        <a href=\"https://bokeh.pydata.org\" target=\"_blank\" class=\"bk-logo bk-logo-small bk-logo-notebook\"></a>\n",
       "        <span id=\"1b3fc7b7-4275-4705-96b6-82e8c7e9fd8a\">Loading BokehJS ...</span>\n",
       "    </div>"
      ]
     },
     "metadata": {},
     "output_type": "display_data"
    },
    {
     "data": {
      "application/javascript": [
       "\n",
       "(function(root) {\n",
       "  function now() {\n",
       "    return new Date();\n",
       "  }\n",
       "\n",
       "  var force = true;\n",
       "\n",
       "  if (typeof (root._bokeh_onload_callbacks) === \"undefined\" || force === true) {\n",
       "    root._bokeh_onload_callbacks = [];\n",
       "    root._bokeh_is_loading = undefined;\n",
       "  }\n",
       "\n",
       "  var JS_MIME_TYPE = 'application/javascript';\n",
       "  var HTML_MIME_TYPE = 'text/html';\n",
       "  var EXEC_MIME_TYPE = 'application/vnd.bokehjs_exec.v0+json';\n",
       "  var CLASS_NAME = 'output_bokeh rendered_html';\n",
       "\n",
       "  /**\n",
       "   * Render data to the DOM node\n",
       "   */\n",
       "  function render(props, node) {\n",
       "    var script = document.createElement(\"script\");\n",
       "    node.appendChild(script);\n",
       "  }\n",
       "\n",
       "  /**\n",
       "   * Handle when an output is cleared or removed\n",
       "   */\n",
       "  function handleClearOutput(event, handle) {\n",
       "    var cell = handle.cell;\n",
       "\n",
       "    var id = cell.output_area._bokeh_element_id;\n",
       "    var server_id = cell.output_area._bokeh_server_id;\n",
       "    // Clean up Bokeh references\n",
       "    if (id !== undefined) {\n",
       "      Bokeh.index[id].model.document.clear();\n",
       "      delete Bokeh.index[id];\n",
       "    }\n",
       "\n",
       "    if (server_id !== undefined) {\n",
       "      // Clean up Bokeh references\n",
       "      var cmd = \"from bokeh.io.state import curstate; print(curstate().uuid_to_server['\" + server_id + \"'].get_sessions()[0].document.roots[0]._id)\";\n",
       "      cell.notebook.kernel.execute(cmd, {\n",
       "        iopub: {\n",
       "          output: function(msg) {\n",
       "            var element_id = msg.content.text.trim();\n",
       "            Bokeh.index[element_id].model.document.clear();\n",
       "            delete Bokeh.index[element_id];\n",
       "          }\n",
       "        }\n",
       "      });\n",
       "      // Destroy server and session\n",
       "      var cmd = \"import bokeh.io.notebook as ion; ion.destroy_server('\" + server_id + \"')\";\n",
       "      cell.notebook.kernel.execute(cmd);\n",
       "    }\n",
       "  }\n",
       "\n",
       "  /**\n",
       "   * Handle when a new output is added\n",
       "   */\n",
       "  function handleAddOutput(event, handle) {\n",
       "    var output_area = handle.output_area;\n",
       "    var output = handle.output;\n",
       "\n",
       "    // limit handleAddOutput to display_data with EXEC_MIME_TYPE content only\n",
       "    if ((output.output_type != \"display_data\") || (!output.data.hasOwnProperty(EXEC_MIME_TYPE))) {\n",
       "      return\n",
       "    }\n",
       "\n",
       "    var toinsert = output_area.element.find(\".\" + CLASS_NAME.split(' ')[0]);\n",
       "\n",
       "    if (output.metadata[EXEC_MIME_TYPE][\"id\"] !== undefined) {\n",
       "      toinsert[0].firstChild.textContent = output.data[JS_MIME_TYPE];\n",
       "      // store reference to embed id on output_area\n",
       "      output_area._bokeh_element_id = output.metadata[EXEC_MIME_TYPE][\"id\"];\n",
       "    }\n",
       "    if (output.metadata[EXEC_MIME_TYPE][\"server_id\"] !== undefined) {\n",
       "      var bk_div = document.createElement(\"div\");\n",
       "      bk_div.innerHTML = output.data[HTML_MIME_TYPE];\n",
       "      var script_attrs = bk_div.children[0].attributes;\n",
       "      for (var i = 0; i < script_attrs.length; i++) {\n",
       "        toinsert[0].firstChild.setAttribute(script_attrs[i].name, script_attrs[i].value);\n",
       "      }\n",
       "      // store reference to server id on output_area\n",
       "      output_area._bokeh_server_id = output.metadata[EXEC_MIME_TYPE][\"server_id\"];\n",
       "    }\n",
       "  }\n",
       "\n",
       "  function register_renderer(events, OutputArea) {\n",
       "\n",
       "    function append_mime(data, metadata, element) {\n",
       "      // create a DOM node to render to\n",
       "      var toinsert = this.create_output_subarea(\n",
       "        metadata,\n",
       "        CLASS_NAME,\n",
       "        EXEC_MIME_TYPE\n",
       "      );\n",
       "      this.keyboard_manager.register_events(toinsert);\n",
       "      // Render to node\n",
       "      var props = {data: data, metadata: metadata[EXEC_MIME_TYPE]};\n",
       "      render(props, toinsert[0]);\n",
       "      element.append(toinsert);\n",
       "      return toinsert\n",
       "    }\n",
       "\n",
       "    /* Handle when an output is cleared or removed */\n",
       "    events.on('clear_output.CodeCell', handleClearOutput);\n",
       "    events.on('delete.Cell', handleClearOutput);\n",
       "\n",
       "    /* Handle when a new output is added */\n",
       "    events.on('output_added.OutputArea', handleAddOutput);\n",
       "\n",
       "    /**\n",
       "     * Register the mime type and append_mime function with output_area\n",
       "     */\n",
       "    OutputArea.prototype.register_mime_type(EXEC_MIME_TYPE, append_mime, {\n",
       "      /* Is output safe? */\n",
       "      safe: true,\n",
       "      /* Index of renderer in `output_area.display_order` */\n",
       "      index: 0\n",
       "    });\n",
       "  }\n",
       "\n",
       "  // register the mime type if in Jupyter Notebook environment and previously unregistered\n",
       "  if (root.Jupyter !== undefined) {\n",
       "    var events = require('base/js/events');\n",
       "    var OutputArea = require('notebook/js/outputarea').OutputArea;\n",
       "\n",
       "    if (OutputArea.prototype.mime_types().indexOf(EXEC_MIME_TYPE) == -1) {\n",
       "      register_renderer(events, OutputArea);\n",
       "    }\n",
       "  }\n",
       "\n",
       "  \n",
       "  if (typeof (root._bokeh_timeout) === \"undefined\" || force === true) {\n",
       "    root._bokeh_timeout = Date.now() + 5000;\n",
       "    root._bokeh_failed_load = false;\n",
       "  }\n",
       "\n",
       "  var NB_LOAD_WARNING = {'data': {'text/html':\n",
       "     \"<div style='background-color: #fdd'>\\n\"+\n",
       "     \"<p>\\n\"+\n",
       "     \"BokehJS does not appear to have successfully loaded. If loading BokehJS from CDN, this \\n\"+\n",
       "     \"may be due to a slow or bad network connection. Possible fixes:\\n\"+\n",
       "     \"</p>\\n\"+\n",
       "     \"<ul>\\n\"+\n",
       "     \"<li>re-rerun `output_notebook()` to attempt to load from CDN again, or</li>\\n\"+\n",
       "     \"<li>use INLINE resources instead, as so:</li>\\n\"+\n",
       "     \"</ul>\\n\"+\n",
       "     \"<code>\\n\"+\n",
       "     \"from bokeh.resources import INLINE\\n\"+\n",
       "     \"output_notebook(resources=INLINE)\\n\"+\n",
       "     \"</code>\\n\"+\n",
       "     \"</div>\"}};\n",
       "\n",
       "  function display_loaded() {\n",
       "    var el = document.getElementById(\"1b3fc7b7-4275-4705-96b6-82e8c7e9fd8a\");\n",
       "    if (el != null) {\n",
       "      el.textContent = \"BokehJS is loading...\";\n",
       "    }\n",
       "    if (root.Bokeh !== undefined) {\n",
       "      if (el != null) {\n",
       "        el.textContent = \"BokehJS \" + root.Bokeh.version + \" successfully loaded.\";\n",
       "      }\n",
       "    } else if (Date.now() < root._bokeh_timeout) {\n",
       "      setTimeout(display_loaded, 100)\n",
       "    }\n",
       "  }\n",
       "\n",
       "\n",
       "  function run_callbacks() {\n",
       "    try {\n",
       "      root._bokeh_onload_callbacks.forEach(function(callback) { callback() });\n",
       "    }\n",
       "    finally {\n",
       "      delete root._bokeh_onload_callbacks\n",
       "    }\n",
       "    console.info(\"Bokeh: all callbacks have finished\");\n",
       "  }\n",
       "\n",
       "  function load_libs(js_urls, callback) {\n",
       "    root._bokeh_onload_callbacks.push(callback);\n",
       "    if (root._bokeh_is_loading > 0) {\n",
       "      console.log(\"Bokeh: BokehJS is being loaded, scheduling callback at\", now());\n",
       "      return null;\n",
       "    }\n",
       "    if (js_urls == null || js_urls.length === 0) {\n",
       "      run_callbacks();\n",
       "      return null;\n",
       "    }\n",
       "    console.log(\"Bokeh: BokehJS not loaded, scheduling load and callback at\", now());\n",
       "    root._bokeh_is_loading = js_urls.length;\n",
       "    for (var i = 0; i < js_urls.length; i++) {\n",
       "      var url = js_urls[i];\n",
       "      var s = document.createElement('script');\n",
       "      s.src = url;\n",
       "      s.async = false;\n",
       "      s.onreadystatechange = s.onload = function() {\n",
       "        root._bokeh_is_loading--;\n",
       "        if (root._bokeh_is_loading === 0) {\n",
       "          console.log(\"Bokeh: all BokehJS libraries loaded\");\n",
       "          run_callbacks()\n",
       "        }\n",
       "      };\n",
       "      s.onerror = function() {\n",
       "        console.warn(\"failed to load library \" + url);\n",
       "      };\n",
       "      console.log(\"Bokeh: injecting script tag for BokehJS library: \", url);\n",
       "      document.getElementsByTagName(\"head\")[0].appendChild(s);\n",
       "    }\n",
       "  };var element = document.getElementById(\"1b3fc7b7-4275-4705-96b6-82e8c7e9fd8a\");\n",
       "  if (element == null) {\n",
       "    console.log(\"Bokeh: ERROR: autoload.js configured with elementid '1b3fc7b7-4275-4705-96b6-82e8c7e9fd8a' but no matching script tag was found. \")\n",
       "    return false;\n",
       "  }\n",
       "\n",
       "  var js_urls = [\"https://cdn.pydata.org/bokeh/release/bokeh-0.12.14.min.js\", \"https://cdn.pydata.org/bokeh/release/bokeh-widgets-0.12.14.min.js\", \"https://cdn.pydata.org/bokeh/release/bokeh-tables-0.12.14.min.js\", \"https://cdn.pydata.org/bokeh/release/bokeh-gl-0.12.14.min.js\"];\n",
       "\n",
       "  var inline_js = [\n",
       "    function(Bokeh) {\n",
       "      Bokeh.set_log_level(\"info\");\n",
       "    },\n",
       "    \n",
       "    function(Bokeh) {\n",
       "      \n",
       "    },\n",
       "    function(Bokeh) {\n",
       "      console.log(\"Bokeh: injecting CSS: https://cdn.pydata.org/bokeh/release/bokeh-0.12.14.min.css\");\n",
       "      Bokeh.embed.inject_css(\"https://cdn.pydata.org/bokeh/release/bokeh-0.12.14.min.css\");\n",
       "      console.log(\"Bokeh: injecting CSS: https://cdn.pydata.org/bokeh/release/bokeh-widgets-0.12.14.min.css\");\n",
       "      Bokeh.embed.inject_css(\"https://cdn.pydata.org/bokeh/release/bokeh-widgets-0.12.14.min.css\");\n",
       "      console.log(\"Bokeh: injecting CSS: https://cdn.pydata.org/bokeh/release/bokeh-tables-0.12.14.min.css\");\n",
       "      Bokeh.embed.inject_css(\"https://cdn.pydata.org/bokeh/release/bokeh-tables-0.12.14.min.css\");\n",
       "    }\n",
       "  ];\n",
       "\n",
       "  function run_inline_js() {\n",
       "    \n",
       "    if ((root.Bokeh !== undefined) || (force === true)) {\n",
       "      for (var i = 0; i < inline_js.length; i++) {\n",
       "        inline_js[i].call(root, root.Bokeh);\n",
       "      }if (force === true) {\n",
       "        display_loaded();\n",
       "      }} else if (Date.now() < root._bokeh_timeout) {\n",
       "      setTimeout(run_inline_js, 100);\n",
       "    } else if (!root._bokeh_failed_load) {\n",
       "      console.log(\"Bokeh: BokehJS failed to load within specified timeout.\");\n",
       "      root._bokeh_failed_load = true;\n",
       "    } else if (force !== true) {\n",
       "      var cell = $(document.getElementById(\"1b3fc7b7-4275-4705-96b6-82e8c7e9fd8a\")).parents('.cell').data().cell;\n",
       "      cell.output_area.append_execute_result(NB_LOAD_WARNING)\n",
       "    }\n",
       "\n",
       "  }\n",
       "\n",
       "  if (root._bokeh_is_loading === 0) {\n",
       "    console.log(\"Bokeh: BokehJS loaded, going straight to plotting\");\n",
       "    run_inline_js();\n",
       "  } else {\n",
       "    load_libs(js_urls, function() {\n",
       "      console.log(\"Bokeh: BokehJS plotting callback run at\", now());\n",
       "      run_inline_js();\n",
       "    });\n",
       "  }\n",
       "}(window));"
      ],
      "application/vnd.bokehjs_load.v0+json": "\n(function(root) {\n  function now() {\n    return new Date();\n  }\n\n  var force = true;\n\n  if (typeof (root._bokeh_onload_callbacks) === \"undefined\" || force === true) {\n    root._bokeh_onload_callbacks = [];\n    root._bokeh_is_loading = undefined;\n  }\n\n  \n\n  \n  if (typeof (root._bokeh_timeout) === \"undefined\" || force === true) {\n    root._bokeh_timeout = Date.now() + 5000;\n    root._bokeh_failed_load = false;\n  }\n\n  var NB_LOAD_WARNING = {'data': {'text/html':\n     \"<div style='background-color: #fdd'>\\n\"+\n     \"<p>\\n\"+\n     \"BokehJS does not appear to have successfully loaded. If loading BokehJS from CDN, this \\n\"+\n     \"may be due to a slow or bad network connection. Possible fixes:\\n\"+\n     \"</p>\\n\"+\n     \"<ul>\\n\"+\n     \"<li>re-rerun `output_notebook()` to attempt to load from CDN again, or</li>\\n\"+\n     \"<li>use INLINE resources instead, as so:</li>\\n\"+\n     \"</ul>\\n\"+\n     \"<code>\\n\"+\n     \"from bokeh.resources import INLINE\\n\"+\n     \"output_notebook(resources=INLINE)\\n\"+\n     \"</code>\\n\"+\n     \"</div>\"}};\n\n  function display_loaded() {\n    var el = document.getElementById(\"1b3fc7b7-4275-4705-96b6-82e8c7e9fd8a\");\n    if (el != null) {\n      el.textContent = \"BokehJS is loading...\";\n    }\n    if (root.Bokeh !== undefined) {\n      if (el != null) {\n        el.textContent = \"BokehJS \" + root.Bokeh.version + \" successfully loaded.\";\n      }\n    } else if (Date.now() < root._bokeh_timeout) {\n      setTimeout(display_loaded, 100)\n    }\n  }\n\n\n  function run_callbacks() {\n    try {\n      root._bokeh_onload_callbacks.forEach(function(callback) { callback() });\n    }\n    finally {\n      delete root._bokeh_onload_callbacks\n    }\n    console.info(\"Bokeh: all callbacks have finished\");\n  }\n\n  function load_libs(js_urls, callback) {\n    root._bokeh_onload_callbacks.push(callback);\n    if (root._bokeh_is_loading > 0) {\n      console.log(\"Bokeh: BokehJS is being loaded, scheduling callback at\", now());\n      return null;\n    }\n    if (js_urls == null || js_urls.length === 0) {\n      run_callbacks();\n      return null;\n    }\n    console.log(\"Bokeh: BokehJS not loaded, scheduling load and callback at\", now());\n    root._bokeh_is_loading = js_urls.length;\n    for (var i = 0; i < js_urls.length; i++) {\n      var url = js_urls[i];\n      var s = document.createElement('script');\n      s.src = url;\n      s.async = false;\n      s.onreadystatechange = s.onload = function() {\n        root._bokeh_is_loading--;\n        if (root._bokeh_is_loading === 0) {\n          console.log(\"Bokeh: all BokehJS libraries loaded\");\n          run_callbacks()\n        }\n      };\n      s.onerror = function() {\n        console.warn(\"failed to load library \" + url);\n      };\n      console.log(\"Bokeh: injecting script tag for BokehJS library: \", url);\n      document.getElementsByTagName(\"head\")[0].appendChild(s);\n    }\n  };var element = document.getElementById(\"1b3fc7b7-4275-4705-96b6-82e8c7e9fd8a\");\n  if (element == null) {\n    console.log(\"Bokeh: ERROR: autoload.js configured with elementid '1b3fc7b7-4275-4705-96b6-82e8c7e9fd8a' but no matching script tag was found. \")\n    return false;\n  }\n\n  var js_urls = [\"https://cdn.pydata.org/bokeh/release/bokeh-0.12.14.min.js\", \"https://cdn.pydata.org/bokeh/release/bokeh-widgets-0.12.14.min.js\", \"https://cdn.pydata.org/bokeh/release/bokeh-tables-0.12.14.min.js\", \"https://cdn.pydata.org/bokeh/release/bokeh-gl-0.12.14.min.js\"];\n\n  var inline_js = [\n    function(Bokeh) {\n      Bokeh.set_log_level(\"info\");\n    },\n    \n    function(Bokeh) {\n      \n    },\n    function(Bokeh) {\n      console.log(\"Bokeh: injecting CSS: https://cdn.pydata.org/bokeh/release/bokeh-0.12.14.min.css\");\n      Bokeh.embed.inject_css(\"https://cdn.pydata.org/bokeh/release/bokeh-0.12.14.min.css\");\n      console.log(\"Bokeh: injecting CSS: https://cdn.pydata.org/bokeh/release/bokeh-widgets-0.12.14.min.css\");\n      Bokeh.embed.inject_css(\"https://cdn.pydata.org/bokeh/release/bokeh-widgets-0.12.14.min.css\");\n      console.log(\"Bokeh: injecting CSS: https://cdn.pydata.org/bokeh/release/bokeh-tables-0.12.14.min.css\");\n      Bokeh.embed.inject_css(\"https://cdn.pydata.org/bokeh/release/bokeh-tables-0.12.14.min.css\");\n    }\n  ];\n\n  function run_inline_js() {\n    \n    if ((root.Bokeh !== undefined) || (force === true)) {\n      for (var i = 0; i < inline_js.length; i++) {\n        inline_js[i].call(root, root.Bokeh);\n      }if (force === true) {\n        display_loaded();\n      }} else if (Date.now() < root._bokeh_timeout) {\n      setTimeout(run_inline_js, 100);\n    } else if (!root._bokeh_failed_load) {\n      console.log(\"Bokeh: BokehJS failed to load within specified timeout.\");\n      root._bokeh_failed_load = true;\n    } else if (force !== true) {\n      var cell = $(document.getElementById(\"1b3fc7b7-4275-4705-96b6-82e8c7e9fd8a\")).parents('.cell').data().cell;\n      cell.output_area.append_execute_result(NB_LOAD_WARNING)\n    }\n\n  }\n\n  if (root._bokeh_is_loading === 0) {\n    console.log(\"Bokeh: BokehJS loaded, going straight to plotting\");\n    run_inline_js();\n  } else {\n    load_libs(js_urls, function() {\n      console.log(\"Bokeh: BokehJS plotting callback run at\", now());\n      run_inline_js();\n    });\n  }\n}(window));"
     },
     "metadata": {},
     "output_type": "display_data"
    }
   ],
   "source": [
    "output_notebook()"
   ]
  },
  {
   "cell_type": "markdown",
   "metadata": {},
   "source": [
    "# Some Basic Scatter Plots\n",
    "\n",
    "In this section you will see how to use Bokeh's various marker types to create simple scatter plots. "
   ]
  },
  {
   "cell_type": "code",
   "execution_count": 4,
   "metadata": {},
   "outputs": [
    {
     "data": {
      "text/html": [
       "\n",
       "<div class=\"bk-root\">\n",
       "    <div class=\"bk-plotdiv\" id=\"a405520f-fd54-4701-bdb9-2b7c9ba061d2\"></div>\n",
       "</div>"
      ]
     },
     "metadata": {},
     "output_type": "display_data"
    },
    {
     "data": {
      "application/javascript": [
       "(function(root) {\n",
       "  function embed_document(root) {\n",
       "    \n",
       "  var docs_json = {\"963eed13-6aef-45e5-86bc-46f9dc9b298a\":{\"roots\":{\"references\":[{\"attributes\":{\"fill_alpha\":{\"value\":0.5},\"fill_color\":{\"value\":\"orange\"},\"line_color\":{\"value\":\"navy\"},\"size\":{\"units\":\"screen\",\"value\":15},\"x\":{\"field\":\"x\"},\"y\":{\"field\":\"y\"}},\"id\":\"24711ef0-4b6e-4520-9327-6af95f3b1cdc\",\"type\":\"Circle\"},{\"attributes\":{},\"id\":\"4461ab0a-b4a8-448a-9746-3c0c1d0c53c9\",\"type\":\"HelpTool\"},{\"attributes\":{\"bottom_units\":\"screen\",\"fill_alpha\":{\"value\":0.5},\"fill_color\":{\"value\":\"lightgrey\"},\"left_units\":\"screen\",\"level\":\"overlay\",\"line_alpha\":{\"value\":1.0},\"line_color\":{\"value\":\"black\"},\"line_dash\":[4,4],\"line_width\":{\"value\":2},\"plot\":null,\"render_mode\":\"css\",\"right_units\":\"screen\",\"top_units\":\"screen\"},\"id\":\"ae957e9d-1873-422c-b45f-6429a2710e4b\",\"type\":\"BoxAnnotation\"},{\"attributes\":{\"below\":[{\"id\":\"4cc597dc-ad5d-47d5-990b-304279a605ed\",\"type\":\"LinearAxis\"}],\"left\":[{\"id\":\"083f9253-2a7d-42e3-b634-d32e620a7993\",\"type\":\"LinearAxis\"}],\"plot_height\":400,\"plot_width\":400,\"renderers\":[{\"id\":\"4cc597dc-ad5d-47d5-990b-304279a605ed\",\"type\":\"LinearAxis\"},{\"id\":\"87556bad-7115-456d-8a71-35fff02076b0\",\"type\":\"Grid\"},{\"id\":\"083f9253-2a7d-42e3-b634-d32e620a7993\",\"type\":\"LinearAxis\"},{\"id\":\"797d679b-7385-4918-b3ff-69d2f770b3b6\",\"type\":\"Grid\"},{\"id\":\"ae957e9d-1873-422c-b45f-6429a2710e4b\",\"type\":\"BoxAnnotation\"},{\"id\":\"e297f660-9e6d-4131-8a76-349775460768\",\"type\":\"GlyphRenderer\"}],\"title\":{\"id\":\"dfcc78db-c2de-40bf-9c4e-ad89bd67d34b\",\"type\":\"Title\"},\"toolbar\":{\"id\":\"87d98c6a-b151-45dd-9a1f-a114d6c914c7\",\"type\":\"Toolbar\"},\"x_range\":{\"id\":\"0c98740e-c642-478f-8a06-61ebaac4c64c\",\"type\":\"DataRange1d\"},\"x_scale\":{\"id\":\"c181ff2a-605c-43bd-9d82-b2c7eb34759d\",\"type\":\"LinearScale\"},\"y_range\":{\"id\":\"faa7d7b5-bb18-4afb-a7ac-b9a09c22c20e\",\"type\":\"DataRange1d\"},\"y_scale\":{\"id\":\"66dbe846-aff7-4a92-b2b4-527525ce72f4\",\"type\":\"LinearScale\"}},\"id\":\"bb7ffebb-9a9f-4430-9ad3-589fda648505\",\"subtype\":\"Figure\",\"type\":\"Plot\"},{\"attributes\":{\"active_drag\":\"auto\",\"active_inspect\":\"auto\",\"active_scroll\":\"auto\",\"active_tap\":\"auto\",\"tools\":[{\"id\":\"1d7c31dd-8a11-4073-a40d-130358567f1f\",\"type\":\"PanTool\"},{\"id\":\"f10e30f0-78ae-4b98-9622-1ae534be5cdc\",\"type\":\"WheelZoomTool\"},{\"id\":\"6404e9f5-aa2e-41cf-bd79-a9ba1a9f39be\",\"type\":\"BoxZoomTool\"},{\"id\":\"bd1be664-4f14-4275-834d-4a5cdcaeeb98\",\"type\":\"SaveTool\"},{\"id\":\"543f6745-1fd0-4ebc-9106-3133965927cd\",\"type\":\"ResetTool\"},{\"id\":\"4461ab0a-b4a8-448a-9746-3c0c1d0c53c9\",\"type\":\"HelpTool\"}]},\"id\":\"87d98c6a-b151-45dd-9a1f-a114d6c914c7\",\"type\":\"Toolbar\"},{\"attributes\":{\"callback\":null},\"id\":\"0c98740e-c642-478f-8a06-61ebaac4c64c\",\"type\":\"DataRange1d\"},{\"attributes\":{\"plot\":null,\"text\":\"\"},\"id\":\"dfcc78db-c2de-40bf-9c4e-ad89bd67d34b\",\"type\":\"Title\"},{\"attributes\":{\"callback\":null},\"id\":\"faa7d7b5-bb18-4afb-a7ac-b9a09c22c20e\",\"type\":\"DataRange1d\"},{\"attributes\":{},\"id\":\"14eaf137-bd0b-4fd2-90da-9c09773c5568\",\"type\":\"BasicTicker\"},{\"attributes\":{},\"id\":\"7f061d58-d81f-44a6-9e3b-297eeb75cc39\",\"type\":\"BasicTickFormatter\"},{\"attributes\":{},\"id\":\"c181ff2a-605c-43bd-9d82-b2c7eb34759d\",\"type\":\"LinearScale\"},{\"attributes\":{},\"id\":\"66dbe846-aff7-4a92-b2b4-527525ce72f4\",\"type\":\"LinearScale\"},{\"attributes\":{\"data_source\":{\"id\":\"bb931507-5676-4fd1-ba62-9c9ead4e33f8\",\"type\":\"ColumnDataSource\"},\"glyph\":{\"id\":\"24711ef0-4b6e-4520-9327-6af95f3b1cdc\",\"type\":\"Circle\"},\"hover_glyph\":null,\"muted_glyph\":null,\"nonselection_glyph\":{\"id\":\"fa5da12c-aede-476c-ad86-a57bd9d16b5a\",\"type\":\"Circle\"},\"selection_glyph\":null,\"view\":{\"id\":\"d4ade89a-cc86-4e8c-8579-8f55817bc73a\",\"type\":\"CDSView\"}},\"id\":\"e297f660-9e6d-4131-8a76-349775460768\",\"type\":\"GlyphRenderer\"},{\"attributes\":{\"formatter\":{\"id\":\"18002a89-7e6c-403e-8691-23779b9b6d69\",\"type\":\"BasicTickFormatter\"},\"plot\":{\"id\":\"bb7ffebb-9a9f-4430-9ad3-589fda648505\",\"subtype\":\"Figure\",\"type\":\"Plot\"},\"ticker\":{\"id\":\"14eaf137-bd0b-4fd2-90da-9c09773c5568\",\"type\":\"BasicTicker\"}},\"id\":\"4cc597dc-ad5d-47d5-990b-304279a605ed\",\"type\":\"LinearAxis\"},{\"attributes\":{\"dimension\":1,\"plot\":{\"id\":\"bb7ffebb-9a9f-4430-9ad3-589fda648505\",\"subtype\":\"Figure\",\"type\":\"Plot\"},\"ticker\":{\"id\":\"8a411c8c-64fd-4662-949e-f31f4398efd0\",\"type\":\"BasicTicker\"}},\"id\":\"797d679b-7385-4918-b3ff-69d2f770b3b6\",\"type\":\"Grid\"},{\"attributes\":{\"source\":{\"id\":\"bb931507-5676-4fd1-ba62-9c9ead4e33f8\",\"type\":\"ColumnDataSource\"}},\"id\":\"d4ade89a-cc86-4e8c-8579-8f55817bc73a\",\"type\":\"CDSView\"},{\"attributes\":{\"plot\":{\"id\":\"bb7ffebb-9a9f-4430-9ad3-589fda648505\",\"subtype\":\"Figure\",\"type\":\"Plot\"},\"ticker\":{\"id\":\"14eaf137-bd0b-4fd2-90da-9c09773c5568\",\"type\":\"BasicTicker\"}},\"id\":\"87556bad-7115-456d-8a71-35fff02076b0\",\"type\":\"Grid\"},{\"attributes\":{\"formatter\":{\"id\":\"7f061d58-d81f-44a6-9e3b-297eeb75cc39\",\"type\":\"BasicTickFormatter\"},\"plot\":{\"id\":\"bb7ffebb-9a9f-4430-9ad3-589fda648505\",\"subtype\":\"Figure\",\"type\":\"Plot\"},\"ticker\":{\"id\":\"8a411c8c-64fd-4662-949e-f31f4398efd0\",\"type\":\"BasicTicker\"}},\"id\":\"083f9253-2a7d-42e3-b634-d32e620a7993\",\"type\":\"LinearAxis\"},{\"attributes\":{\"fill_alpha\":{\"value\":0.1},\"fill_color\":{\"value\":\"#1f77b4\"},\"line_alpha\":{\"value\":0.1},\"line_color\":{\"value\":\"#1f77b4\"},\"size\":{\"units\":\"screen\",\"value\":15},\"x\":{\"field\":\"x\"},\"y\":{\"field\":\"y\"}},\"id\":\"fa5da12c-aede-476c-ad86-a57bd9d16b5a\",\"type\":\"Circle\"},{\"attributes\":{\"callback\":null,\"column_names\":[\"x\",\"y\"],\"data\":{\"x\":[1,2,3,4,5],\"y\":[6,7,2,4,5]}},\"id\":\"bb931507-5676-4fd1-ba62-9c9ead4e33f8\",\"type\":\"ColumnDataSource\"},{\"attributes\":{},\"id\":\"8a411c8c-64fd-4662-949e-f31f4398efd0\",\"type\":\"BasicTicker\"},{\"attributes\":{},\"id\":\"1d7c31dd-8a11-4073-a40d-130358567f1f\",\"type\":\"PanTool\"},{\"attributes\":{},\"id\":\"f10e30f0-78ae-4b98-9622-1ae534be5cdc\",\"type\":\"WheelZoomTool\"},{\"attributes\":{\"overlay\":{\"id\":\"ae957e9d-1873-422c-b45f-6429a2710e4b\",\"type\":\"BoxAnnotation\"}},\"id\":\"6404e9f5-aa2e-41cf-bd79-a9ba1a9f39be\",\"type\":\"BoxZoomTool\"},{\"attributes\":{},\"id\":\"bd1be664-4f14-4275-834d-4a5cdcaeeb98\",\"type\":\"SaveTool\"},{\"attributes\":{},\"id\":\"543f6745-1fd0-4ebc-9106-3133965927cd\",\"type\":\"ResetTool\"},{\"attributes\":{},\"id\":\"18002a89-7e6c-403e-8691-23779b9b6d69\",\"type\":\"BasicTickFormatter\"}],\"root_ids\":[\"bb7ffebb-9a9f-4430-9ad3-589fda648505\"]},\"title\":\"Bokeh Application\",\"version\":\"0.12.14\"}};\n",
       "  var render_items = [{\"docid\":\"963eed13-6aef-45e5-86bc-46f9dc9b298a\",\"elementid\":\"a405520f-fd54-4701-bdb9-2b7c9ba061d2\",\"modelid\":\"bb7ffebb-9a9f-4430-9ad3-589fda648505\"}];\n",
       "  root.Bokeh.embed.embed_items_notebook(docs_json, render_items);\n",
       "\n",
       "  }\n",
       "  if (root.Bokeh !== undefined) {\n",
       "    embed_document(root);\n",
       "  } else {\n",
       "    var attempts = 0;\n",
       "    var timer = setInterval(function(root) {\n",
       "      if (root.Bokeh !== undefined) {\n",
       "        embed_document(root);\n",
       "        clearInterval(timer);\n",
       "      }\n",
       "      attempts++;\n",
       "      if (attempts > 100) {\n",
       "        console.log(\"Bokeh: ERROR: Unable to run BokehJS code because BokehJS library is missing\")\n",
       "        clearInterval(timer);\n",
       "      }\n",
       "    }, 10, root)\n",
       "  }\n",
       "})(window);"
      ],
      "application/vnd.bokehjs_exec.v0+json": ""
     },
     "metadata": {
      "application/vnd.bokehjs_exec.v0+json": {
       "id": "bb7ffebb-9a9f-4430-9ad3-589fda648505"
      }
     },
     "output_type": "display_data"
    }
   ],
   "source": [
    "# create a new plot with default tools, using figure\n",
    "p = figure(plot_width=400, plot_height=400)\n",
    "\n",
    "# add a circle renderer with a size, color, and alpha\n",
    "p.circle([1, 2, 3, 4, 5], [6, 7, 2, 4, 5], size=15, line_color=\"navy\", fill_color=\"orange\", fill_alpha=0.5)\n",
    "\n",
    "show(p) # show the results"
   ]
  },
  {
   "cell_type": "markdown",
   "metadata": {},
   "source": [
    "All Bokeh markers accept `size` (measured in screen space units) as a property. Circles also have `radius` (measured in \"data\" space units). "
   ]
  },
  {
   "cell_type": "code",
   "execution_count": 6,
   "metadata": {},
   "outputs": [
    {
     "data": {
      "text/html": [
       "\n",
       "<div class=\"bk-root\">\n",
       "    <div class=\"bk-plotdiv\" id=\"505d69a0-f1ed-469a-8025-a95cf31ee373\"></div>\n",
       "</div>"
      ]
     },
     "metadata": {},
     "output_type": "display_data"
    },
    {
     "data": {
      "application/javascript": [
       "(function(root) {\n",
       "  function embed_document(root) {\n",
       "    \n",
       "  var docs_json = {\"f2326aa2-b1f2-4195-a564-f607baae54ee\":{\"roots\":{\"references\":[{\"attributes\":{},\"id\":\"aaa572a3-18f7-49a6-8bd2-e0d52112ba3a\",\"type\":\"PanTool\"},{\"attributes\":{\"data_source\":{\"id\":\"32f1444c-c6c2-4f30-b259-4f61b9e29193\",\"type\":\"ColumnDataSource\"},\"glyph\":{\"id\":\"44526309-83e2-487e-9ae9-30f2ad71c61b\",\"type\":\"Circle\"},\"hover_glyph\":null,\"muted_glyph\":null,\"nonselection_glyph\":{\"id\":\"092ba51f-3cda-4505-886b-f0c7dff32b59\",\"type\":\"Circle\"},\"selection_glyph\":null,\"view\":{\"id\":\"fedfffc4-48f8-4900-ab39-2ab235a48499\",\"type\":\"CDSView\"}},\"id\":\"5aeb446f-3ae8-4db5-bbf2-8b00a289e072\",\"type\":\"GlyphRenderer\"},{\"attributes\":{},\"id\":\"4bf0a742-e5cb-48a8-a9d6-3ee65dae8930\",\"type\":\"LinearScale\"},{\"attributes\":{},\"id\":\"692e5650-8280-4be0-b1d5-885248e66886\",\"type\":\"HelpTool\"},{\"attributes\":{},\"id\":\"c326cbe0-a4ba-4f0f-978f-63bec6321550\",\"type\":\"BasicTickFormatter\"},{\"attributes\":{\"plot\":{\"id\":\"57ab5345-376d-4f69-b858-31de0e59c23f\",\"subtype\":\"Figure\",\"type\":\"Plot\"},\"ticker\":{\"id\":\"328f6ba0-d28a-4f55-98f6-f3788fc850ee\",\"type\":\"BasicTicker\"}},\"id\":\"012eb607-a0fc-4e50-85fb-9ad82ac504b8\",\"type\":\"Grid\"},{\"attributes\":{\"bottom_units\":\"screen\",\"fill_alpha\":{\"value\":0.5},\"fill_color\":{\"value\":\"lightgrey\"},\"left_units\":\"screen\",\"level\":\"overlay\",\"line_alpha\":{\"value\":1.0},\"line_color\":{\"value\":\"black\"},\"line_dash\":[4,4],\"line_width\":{\"value\":2},\"plot\":null,\"render_mode\":\"css\",\"right_units\":\"screen\",\"top_units\":\"screen\"},\"id\":\"8489d652-0bf2-4c7d-828c-4e852835bcda\",\"type\":\"BoxAnnotation\"},{\"attributes\":{\"formatter\":{\"id\":\"0c2a5f4f-4f75-45bf-9588-f273e58421b2\",\"type\":\"BasicTickFormatter\"},\"plot\":{\"id\":\"57ab5345-376d-4f69-b858-31de0e59c23f\",\"subtype\":\"Figure\",\"type\":\"Plot\"},\"ticker\":{\"id\":\"328f6ba0-d28a-4f55-98f6-f3788fc850ee\",\"type\":\"BasicTicker\"}},\"id\":\"b39ed7cd-c709-4a3b-86d6-0467bbeec8b6\",\"type\":\"LinearAxis\"},{\"attributes\":{\"fill_alpha\":{\"value\":0.5},\"fill_color\":{\"value\":\"orange\"},\"line_color\":{\"value\":\"navy\"},\"radius\":{\"units\":\"data\",\"value\":0.1},\"x\":{\"field\":\"x\"},\"y\":{\"field\":\"y\"}},\"id\":\"44526309-83e2-487e-9ae9-30f2ad71c61b\",\"type\":\"Circle\"},{\"attributes\":{\"callback\":null},\"id\":\"237ac1ed-300c-45de-a41c-e82323157ce5\",\"type\":\"DataRange1d\"},{\"attributes\":{\"dimension\":1,\"plot\":{\"id\":\"57ab5345-376d-4f69-b858-31de0e59c23f\",\"subtype\":\"Figure\",\"type\":\"Plot\"},\"ticker\":{\"id\":\"59faa0f7-951f-4115-a8b3-277bb2b62093\",\"type\":\"BasicTicker\"}},\"id\":\"18f8925a-f8aa-47e8-8666-e5172bae210f\",\"type\":\"Grid\"},{\"attributes\":{},\"id\":\"7b939194-ba84-4655-ad23-7943c6930681\",\"type\":\"LinearScale\"},{\"attributes\":{\"active_drag\":\"auto\",\"active_inspect\":\"auto\",\"active_scroll\":\"auto\",\"active_tap\":\"auto\",\"tools\":[{\"id\":\"aaa572a3-18f7-49a6-8bd2-e0d52112ba3a\",\"type\":\"PanTool\"},{\"id\":\"580ae6c5-f8d4-4bd6-8843-97a309537ddf\",\"type\":\"WheelZoomTool\"},{\"id\":\"02f2d96a-73ba-41e4-8be0-1016ac36c667\",\"type\":\"BoxZoomTool\"},{\"id\":\"9f7b2d78-b285-4dee-a72c-5792c83e2d60\",\"type\":\"SaveTool\"},{\"id\":\"166fdc21-c1d1-4c46-846f-1848df5c1801\",\"type\":\"ResetTool\"},{\"id\":\"692e5650-8280-4be0-b1d5-885248e66886\",\"type\":\"HelpTool\"}]},\"id\":\"c552adba-a8b5-4a7c-ad75-e8e2fec48fd2\",\"type\":\"Toolbar\"},{\"attributes\":{\"source\":{\"id\":\"32f1444c-c6c2-4f30-b259-4f61b9e29193\",\"type\":\"ColumnDataSource\"}},\"id\":\"fedfffc4-48f8-4900-ab39-2ab235a48499\",\"type\":\"CDSView\"},{\"attributes\":{\"callback\":null,\"column_names\":[\"x\",\"y\"],\"data\":{\"x\":[1,2,3,4,5],\"y\":[6,7,2,4,5]}},\"id\":\"32f1444c-c6c2-4f30-b259-4f61b9e29193\",\"type\":\"ColumnDataSource\"},{\"attributes\":{},\"id\":\"166fdc21-c1d1-4c46-846f-1848df5c1801\",\"type\":\"ResetTool\"},{\"attributes\":{},\"id\":\"328f6ba0-d28a-4f55-98f6-f3788fc850ee\",\"type\":\"BasicTicker\"},{\"attributes\":{\"formatter\":{\"id\":\"c326cbe0-a4ba-4f0f-978f-63bec6321550\",\"type\":\"BasicTickFormatter\"},\"plot\":{\"id\":\"57ab5345-376d-4f69-b858-31de0e59c23f\",\"subtype\":\"Figure\",\"type\":\"Plot\"},\"ticker\":{\"id\":\"59faa0f7-951f-4115-a8b3-277bb2b62093\",\"type\":\"BasicTicker\"}},\"id\":\"5bb4aef4-a4ed-415e-ab9f-4ba9c061d39b\",\"type\":\"LinearAxis\"},{\"attributes\":{\"callback\":null},\"id\":\"6e271202-428c-4ac2-a17c-9a7c7c04c682\",\"type\":\"DataRange1d\"},{\"attributes\":{\"plot\":null,\"text\":\"\"},\"id\":\"000d2897-f87c-4616-9962-55607b8d925f\",\"type\":\"Title\"},{\"attributes\":{},\"id\":\"0c2a5f4f-4f75-45bf-9588-f273e58421b2\",\"type\":\"BasicTickFormatter\"},{\"attributes\":{\"fill_alpha\":{\"value\":0.1},\"fill_color\":{\"value\":\"#1f77b4\"},\"line_alpha\":{\"value\":0.1},\"line_color\":{\"value\":\"#1f77b4\"},\"radius\":{\"units\":\"data\",\"value\":0.1},\"x\":{\"field\":\"x\"},\"y\":{\"field\":\"y\"}},\"id\":\"092ba51f-3cda-4505-886b-f0c7dff32b59\",\"type\":\"Circle\"},{\"attributes\":{},\"id\":\"580ae6c5-f8d4-4bd6-8843-97a309537ddf\",\"type\":\"WheelZoomTool\"},{\"attributes\":{\"overlay\":{\"id\":\"8489d652-0bf2-4c7d-828c-4e852835bcda\",\"type\":\"BoxAnnotation\"}},\"id\":\"02f2d96a-73ba-41e4-8be0-1016ac36c667\",\"type\":\"BoxZoomTool\"},{\"attributes\":{},\"id\":\"9f7b2d78-b285-4dee-a72c-5792c83e2d60\",\"type\":\"SaveTool\"},{\"attributes\":{},\"id\":\"59faa0f7-951f-4115-a8b3-277bb2b62093\",\"type\":\"BasicTicker\"},{\"attributes\":{\"below\":[{\"id\":\"b39ed7cd-c709-4a3b-86d6-0467bbeec8b6\",\"type\":\"LinearAxis\"}],\"left\":[{\"id\":\"5bb4aef4-a4ed-415e-ab9f-4ba9c061d39b\",\"type\":\"LinearAxis\"}],\"plot_height\":400,\"plot_width\":400,\"renderers\":[{\"id\":\"b39ed7cd-c709-4a3b-86d6-0467bbeec8b6\",\"type\":\"LinearAxis\"},{\"id\":\"012eb607-a0fc-4e50-85fb-9ad82ac504b8\",\"type\":\"Grid\"},{\"id\":\"5bb4aef4-a4ed-415e-ab9f-4ba9c061d39b\",\"type\":\"LinearAxis\"},{\"id\":\"18f8925a-f8aa-47e8-8666-e5172bae210f\",\"type\":\"Grid\"},{\"id\":\"8489d652-0bf2-4c7d-828c-4e852835bcda\",\"type\":\"BoxAnnotation\"},{\"id\":\"5aeb446f-3ae8-4db5-bbf2-8b00a289e072\",\"type\":\"GlyphRenderer\"}],\"title\":{\"id\":\"000d2897-f87c-4616-9962-55607b8d925f\",\"type\":\"Title\"},\"toolbar\":{\"id\":\"c552adba-a8b5-4a7c-ad75-e8e2fec48fd2\",\"type\":\"Toolbar\"},\"x_range\":{\"id\":\"237ac1ed-300c-45de-a41c-e82323157ce5\",\"type\":\"DataRange1d\"},\"x_scale\":{\"id\":\"7b939194-ba84-4655-ad23-7943c6930681\",\"type\":\"LinearScale\"},\"y_range\":{\"id\":\"6e271202-428c-4ac2-a17c-9a7c7c04c682\",\"type\":\"DataRange1d\"},\"y_scale\":{\"id\":\"4bf0a742-e5cb-48a8-a9d6-3ee65dae8930\",\"type\":\"LinearScale\"}},\"id\":\"57ab5345-376d-4f69-b858-31de0e59c23f\",\"subtype\":\"Figure\",\"type\":\"Plot\"}],\"root_ids\":[\"57ab5345-376d-4f69-b858-31de0e59c23f\"]},\"title\":\"Bokeh Application\",\"version\":\"0.12.14\"}};\n",
       "  var render_items = [{\"docid\":\"f2326aa2-b1f2-4195-a564-f607baae54ee\",\"elementid\":\"505d69a0-f1ed-469a-8025-a95cf31ee373\",\"modelid\":\"57ab5345-376d-4f69-b858-31de0e59c23f\"}];\n",
       "  root.Bokeh.embed.embed_items_notebook(docs_json, render_items);\n",
       "\n",
       "  }\n",
       "  if (root.Bokeh !== undefined) {\n",
       "    embed_document(root);\n",
       "  } else {\n",
       "    var attempts = 0;\n",
       "    var timer = setInterval(function(root) {\n",
       "      if (root.Bokeh !== undefined) {\n",
       "        embed_document(root);\n",
       "        clearInterval(timer);\n",
       "      }\n",
       "      attempts++;\n",
       "      if (attempts > 100) {\n",
       "        console.log(\"Bokeh: ERROR: Unable to run BokehJS code because BokehJS library is missing\")\n",
       "        clearInterval(timer);\n",
       "      }\n",
       "    }, 10, root)\n",
       "  }\n",
       "})(window);"
      ],
      "application/vnd.bokehjs_exec.v0+json": ""
     },
     "metadata": {
      "application/vnd.bokehjs_exec.v0+json": {
       "id": "57ab5345-376d-4f69-b858-31de0e59c23f"
      }
     },
     "output_type": "display_data"
    }
   ],
   "source": [
    "# EXERCISE: Try changing the example above to set a `radius` value instead of `size`\n",
    "\n",
    "# create a new plot with default tools, using figure\n",
    "p = figure(plot_width=400, plot_height=400)\n",
    "\n",
    "# add a circle renderer with a size, color, and alpha\n",
    "p.circle([1, 2, 3, 4, 5], [6, 7, 2, 4, 5], radius=0.1, line_color=\"navy\", fill_color=\"orange\", fill_alpha=0.5)\n",
    "\n",
    "show(p) # show the results\n"
   ]
  },
  {
   "cell_type": "markdown",
   "metadata": {},
   "source": [
    "To scatter square markers instead of circles, you can use the `square` method on figures. "
   ]
  },
  {
   "cell_type": "code",
   "execution_count": 7,
   "metadata": {},
   "outputs": [
    {
     "data": {
      "text/html": [
       "\n",
       "<div class=\"bk-root\">\n",
       "    <div class=\"bk-plotdiv\" id=\"99359907-2906-4487-82cb-5d4dc38e7e06\"></div>\n",
       "</div>"
      ]
     },
     "metadata": {},
     "output_type": "display_data"
    },
    {
     "data": {
      "application/javascript": [
       "(function(root) {\n",
       "  function embed_document(root) {\n",
       "    \n",
       "  var docs_json = {\"948da589-b5e6-42a3-8d64-a0fc405dc24b\":{\"roots\":{\"references\":[{\"attributes\":{},\"id\":\"d7aaeab8-3dcd-40e2-9f96-04c4a1548d09\",\"type\":\"BasicTicker\"},{\"attributes\":{\"active_drag\":\"auto\",\"active_inspect\":\"auto\",\"active_scroll\":\"auto\",\"active_tap\":\"auto\",\"tools\":[{\"id\":\"9e4ad718-3cee-4115-bd42-df33afad6412\",\"type\":\"PanTool\"},{\"id\":\"a2b1eaaa-4028-4eca-aac3-c96ac65e7930\",\"type\":\"WheelZoomTool\"},{\"id\":\"753fdc1b-3525-489d-9522-8319609b58e4\",\"type\":\"BoxZoomTool\"},{\"id\":\"d1a37848-2e83-4a3d-886a-8794914fe78c\",\"type\":\"SaveTool\"},{\"id\":\"31eb98c3-a5eb-4628-900b-bf48932072c5\",\"type\":\"ResetTool\"},{\"id\":\"a2e3b9f9-aead-41b1-99d1-a4141f924503\",\"type\":\"HelpTool\"}]},\"id\":\"ddc200e1-1146-4653-aa0e-018c64d2ef5d\",\"type\":\"Toolbar\"},{\"attributes\":{\"formatter\":{\"id\":\"37098c70-b6b2-4fef-a43f-c817e4f76b2f\",\"type\":\"BasicTickFormatter\"},\"plot\":{\"id\":\"457dc7bf-9fad-4e54-ba41-510189dfe6f0\",\"subtype\":\"Figure\",\"type\":\"Plot\"},\"ticker\":{\"id\":\"d7aaeab8-3dcd-40e2-9f96-04c4a1548d09\",\"type\":\"BasicTicker\"}},\"id\":\"d18de962-356f-4788-a3e4-a63b7a4ce1f5\",\"type\":\"LinearAxis\"},{\"attributes\":{\"plot\":{\"id\":\"457dc7bf-9fad-4e54-ba41-510189dfe6f0\",\"subtype\":\"Figure\",\"type\":\"Plot\"},\"ticker\":{\"id\":\"cbaa9f05-0172-48eb-b718-ed0df4a73484\",\"type\":\"BasicTicker\"}},\"id\":\"b02ee786-cc56-4568-8a68-a0f01c2a6507\",\"type\":\"Grid\"},{\"attributes\":{\"bottom_units\":\"screen\",\"fill_alpha\":{\"value\":0.5},\"fill_color\":{\"value\":\"lightgrey\"},\"left_units\":\"screen\",\"level\":\"overlay\",\"line_alpha\":{\"value\":1.0},\"line_color\":{\"value\":\"black\"},\"line_dash\":[4,4],\"line_width\":{\"value\":2},\"plot\":null,\"render_mode\":\"css\",\"right_units\":\"screen\",\"top_units\":\"screen\"},\"id\":\"6ccf7802-25c1-49a3-baac-7758bd987138\",\"type\":\"BoxAnnotation\"},{\"attributes\":{\"fill_alpha\":{\"value\":0.1},\"fill_color\":{\"value\":\"#1f77b4\"},\"line_alpha\":{\"value\":0.1},\"line_color\":{\"value\":\"#1f77b4\"},\"size\":{\"field\":\"size\",\"units\":\"screen\"},\"x\":{\"field\":\"x\"},\"y\":{\"field\":\"y\"}},\"id\":\"0774e8dd-2ebe-4478-88b3-e14600a258f6\",\"type\":\"Square\"},{\"attributes\":{},\"id\":\"37098c70-b6b2-4fef-a43f-c817e4f76b2f\",\"type\":\"BasicTickFormatter\"},{\"attributes\":{\"callback\":null,\"column_names\":[\"x\",\"y\",\"size\"],\"data\":{\"size\":[10,15,20,25,30],\"x\":[1,2,3,4,5],\"y\":[6,7,2,4,5]}},\"id\":\"f4c9c940-f4a3-42b7-b556-67c2fb2f9832\",\"type\":\"ColumnDataSource\"},{\"attributes\":{},\"id\":\"ae1cc910-3559-4b3a-aa52-305fae5a6362\",\"type\":\"LinearScale\"},{\"attributes\":{},\"id\":\"6cb154ee-49d7-4469-b651-556aef2c08f4\",\"type\":\"BasicTickFormatter\"},{\"attributes\":{},\"id\":\"31eb98c3-a5eb-4628-900b-bf48932072c5\",\"type\":\"ResetTool\"},{\"attributes\":{\"below\":[{\"id\":\"9e47f242-b8b1-44fe-9afd-287b742bb2cf\",\"type\":\"LinearAxis\"}],\"left\":[{\"id\":\"d18de962-356f-4788-a3e4-a63b7a4ce1f5\",\"type\":\"LinearAxis\"}],\"plot_height\":400,\"plot_width\":400,\"renderers\":[{\"id\":\"9e47f242-b8b1-44fe-9afd-287b742bb2cf\",\"type\":\"LinearAxis\"},{\"id\":\"b02ee786-cc56-4568-8a68-a0f01c2a6507\",\"type\":\"Grid\"},{\"id\":\"d18de962-356f-4788-a3e4-a63b7a4ce1f5\",\"type\":\"LinearAxis\"},{\"id\":\"f84df357-9a52-4e97-803b-2ef9b17be243\",\"type\":\"Grid\"},{\"id\":\"6ccf7802-25c1-49a3-baac-7758bd987138\",\"type\":\"BoxAnnotation\"},{\"id\":\"f3f21270-7892-41cf-a8db-658fa1b8854a\",\"type\":\"GlyphRenderer\"}],\"title\":{\"id\":\"fe51e82e-0e6c-4b16-98cb-5be62c05cdaa\",\"type\":\"Title\"},\"toolbar\":{\"id\":\"ddc200e1-1146-4653-aa0e-018c64d2ef5d\",\"type\":\"Toolbar\"},\"x_range\":{\"id\":\"db3b6a21-fafd-4761-bdef-3762bcfd0851\",\"type\":\"DataRange1d\"},\"x_scale\":{\"id\":\"ae1cc910-3559-4b3a-aa52-305fae5a6362\",\"type\":\"LinearScale\"},\"y_range\":{\"id\":\"79ecc9eb-7f17-4ab2-8b7d-392861c97c35\",\"type\":\"DataRange1d\"},\"y_scale\":{\"id\":\"a9c3ac7f-171f-4911-9da0-ba075ee30d07\",\"type\":\"LinearScale\"}},\"id\":\"457dc7bf-9fad-4e54-ba41-510189dfe6f0\",\"subtype\":\"Figure\",\"type\":\"Plot\"},{\"attributes\":{\"source\":{\"id\":\"f4c9c940-f4a3-42b7-b556-67c2fb2f9832\",\"type\":\"ColumnDataSource\"}},\"id\":\"b5b6ee89-a17d-4416-b285-c630886c3f13\",\"type\":\"CDSView\"},{\"attributes\":{},\"id\":\"a2b1eaaa-4028-4eca-aac3-c96ac65e7930\",\"type\":\"WheelZoomTool\"},{\"attributes\":{},\"id\":\"9e4ad718-3cee-4115-bd42-df33afad6412\",\"type\":\"PanTool\"},{\"attributes\":{},\"id\":\"d1a37848-2e83-4a3d-886a-8794914fe78c\",\"type\":\"SaveTool\"},{\"attributes\":{},\"id\":\"a2e3b9f9-aead-41b1-99d1-a4141f924503\",\"type\":\"HelpTool\"},{\"attributes\":{\"data_source\":{\"id\":\"f4c9c940-f4a3-42b7-b556-67c2fb2f9832\",\"type\":\"ColumnDataSource\"},\"glyph\":{\"id\":\"969d3f41-b361-4693-84f5-a7881dd19000\",\"type\":\"Square\"},\"hover_glyph\":null,\"muted_glyph\":null,\"nonselection_glyph\":{\"id\":\"0774e8dd-2ebe-4478-88b3-e14600a258f6\",\"type\":\"Square\"},\"selection_glyph\":null,\"view\":{\"id\":\"b5b6ee89-a17d-4416-b285-c630886c3f13\",\"type\":\"CDSView\"}},\"id\":\"f3f21270-7892-41cf-a8db-658fa1b8854a\",\"type\":\"GlyphRenderer\"},{\"attributes\":{\"overlay\":{\"id\":\"6ccf7802-25c1-49a3-baac-7758bd987138\",\"type\":\"BoxAnnotation\"}},\"id\":\"753fdc1b-3525-489d-9522-8319609b58e4\",\"type\":\"BoxZoomTool\"},{\"attributes\":{\"fill_alpha\":{\"value\":0.6},\"fill_color\":{\"value\":\"firebrick\"},\"line_alpha\":{\"value\":0.6},\"line_color\":{\"value\":\"firebrick\"},\"size\":{\"field\":\"size\",\"units\":\"screen\"},\"x\":{\"field\":\"x\"},\"y\":{\"field\":\"y\"}},\"id\":\"969d3f41-b361-4693-84f5-a7881dd19000\",\"type\":\"Square\"},{\"attributes\":{\"callback\":null},\"id\":\"79ecc9eb-7f17-4ab2-8b7d-392861c97c35\",\"type\":\"DataRange1d\"},{\"attributes\":{},\"id\":\"a9c3ac7f-171f-4911-9da0-ba075ee30d07\",\"type\":\"LinearScale\"},{\"attributes\":{},\"id\":\"cbaa9f05-0172-48eb-b718-ed0df4a73484\",\"type\":\"BasicTicker\"},{\"attributes\":{\"plot\":null,\"text\":\"\"},\"id\":\"fe51e82e-0e6c-4b16-98cb-5be62c05cdaa\",\"type\":\"Title\"},{\"attributes\":{\"formatter\":{\"id\":\"6cb154ee-49d7-4469-b651-556aef2c08f4\",\"type\":\"BasicTickFormatter\"},\"plot\":{\"id\":\"457dc7bf-9fad-4e54-ba41-510189dfe6f0\",\"subtype\":\"Figure\",\"type\":\"Plot\"},\"ticker\":{\"id\":\"cbaa9f05-0172-48eb-b718-ed0df4a73484\",\"type\":\"BasicTicker\"}},\"id\":\"9e47f242-b8b1-44fe-9afd-287b742bb2cf\",\"type\":\"LinearAxis\"},{\"attributes\":{\"callback\":null},\"id\":\"db3b6a21-fafd-4761-bdef-3762bcfd0851\",\"type\":\"DataRange1d\"},{\"attributes\":{\"dimension\":1,\"plot\":{\"id\":\"457dc7bf-9fad-4e54-ba41-510189dfe6f0\",\"subtype\":\"Figure\",\"type\":\"Plot\"},\"ticker\":{\"id\":\"d7aaeab8-3dcd-40e2-9f96-04c4a1548d09\",\"type\":\"BasicTicker\"}},\"id\":\"f84df357-9a52-4e97-803b-2ef9b17be243\",\"type\":\"Grid\"}],\"root_ids\":[\"457dc7bf-9fad-4e54-ba41-510189dfe6f0\"]},\"title\":\"Bokeh Application\",\"version\":\"0.12.14\"}};\n",
       "  var render_items = [{\"docid\":\"948da589-b5e6-42a3-8d64-a0fc405dc24b\",\"elementid\":\"99359907-2906-4487-82cb-5d4dc38e7e06\",\"modelid\":\"457dc7bf-9fad-4e54-ba41-510189dfe6f0\"}];\n",
       "  root.Bokeh.embed.embed_items_notebook(docs_json, render_items);\n",
       "\n",
       "  }\n",
       "  if (root.Bokeh !== undefined) {\n",
       "    embed_document(root);\n",
       "  } else {\n",
       "    var attempts = 0;\n",
       "    var timer = setInterval(function(root) {\n",
       "      if (root.Bokeh !== undefined) {\n",
       "        embed_document(root);\n",
       "        clearInterval(timer);\n",
       "      }\n",
       "      attempts++;\n",
       "      if (attempts > 100) {\n",
       "        console.log(\"Bokeh: ERROR: Unable to run BokehJS code because BokehJS library is missing\")\n",
       "        clearInterval(timer);\n",
       "      }\n",
       "    }, 10, root)\n",
       "  }\n",
       "})(window);"
      ],
      "application/vnd.bokehjs_exec.v0+json": ""
     },
     "metadata": {
      "application/vnd.bokehjs_exec.v0+json": {
       "id": "457dc7bf-9fad-4e54-ba41-510189dfe6f0"
      }
     },
     "output_type": "display_data"
    }
   ],
   "source": [
    "# create a new plot using figure\n",
    "p = figure(plot_width=400, plot_height=400)\n",
    "\n",
    "# add a square renderer with a size, color, alpha, and sizes\n",
    "p.square([1, 2, 3, 4, 5], [6, 7, 2, 4, 5], size=[10, 15, 20, 25, 30], color=\"firebrick\", alpha=0.6)\n",
    "\n",
    "show(p) # show the results"
   ]
  },
  {
   "cell_type": "markdown",
   "metadata": {},
   "source": [
    "Note that in the example above, we are also specifying different sizes for each individual marker. ***In general, all of a glyph's properties can be \"vectorized\" in this fashion. ***  Also note that we have passed ``color`` as a shorthand to set both the line and fill colors easily at the same time. This is a convenience specific to ``bokeh.plotting``.\n",
    "\n",
    "</table><p>There are many marker types available in Bokeh, you can see details and\n",
    "example plots for all of them in the reference guide by clicking on entries in the list below:</p>\n",
    "<table class=\"hlist\" style=\"float:left\"><tr><td><ul>\n",
    "<li><a href=\"http://bokeh.pydata.org/en/latest/docs/reference/plotting.html#bokeh.plotting.Figure.asterisk\" title=\"bokeh.plotting.Figure.asterisk\"><code class=\"xref py py-func docutils literal\"><span class=\"pre\">asterisk()</span></code></a></li>\n",
    "<li><a href=\"http://bokeh.pydata.org/en/latest/docs/reference/plotting.html#bokeh.plotting.Figure.circle\" title=\"bokeh.plotting.Figure.circle\"><code class=\"xref py py-func docutils literal\"><span class=\"pre\">circle()</span></code></a></li>\n",
    "<li><a href=\"http://bokeh.pydata.org/en/latest/docs/reference/plotting.html#bokeh.plotting.Figure.circle_cross\" title=\"bokeh.plotting.Figure.circle_cross\"><code class=\"xref py py-func docutils literal\"><span class=\"pre\">circle_cross()</span></code></a></li>\n",
    "<li><a href=\"http://bokeh.pydata.org/en/latest/docs/reference/plotting.html#bokeh.plotting.Figure.circle_x\" title=\"bokeh.plotting.Figure.circle_x\"><code class=\"xref py py-func docutils literal\"><span class=\"pre\">circle_x()</span></code></a></li>\n",
    "<li><a href=\"http://bokeh.pydata.org/en/latest/docs/reference/plotting.html#bokeh.plotting.Figure.cross\" title=\"bokeh.plotting.Figure.cross\"><code class=\"xref py py-func docutils literal\"><span class=\"pre\">cross()</span></code></a></li>\n",
    "</ul>\n",
    "</td><td><ul>\n",
    "<li><a href=\"http://bokeh.pydata.org/en/latest/docs/reference/plotting.html#bokeh.plotting.Figure.diamond\" title=\"bokeh.plotting.Figure.diamond\"><code class=\"xref py py-func docutils literal\"><span class=\"pre\">diamond()</span></code></a></li>\n",
    "<li><a href=\"http://bokeh.pydata.org/en/latest/docs/reference/plotting.html#bokeh.plotting.Figure.diamond_cross\" title=\"bokeh.plotting.Figure.diamond_cross\"><code class=\"xref py py-func docutils literal\"><span class=\"pre\">diamond_cross()</span></code></a></li>\n",
    "<li><a href=\"http://bokeh.pydata.org/en/latest/docs/reference/plotting.html#bokeh.plotting.Figure.inverted_triangle\" title=\"bokeh.plotting.Figure.inverted_triangle\"><code class=\"xref py py-func docutils literal\"><span class=\"pre\">inverted_triangle()</span></code></a></li>\n",
    "<li><a href=\"http://bokeh.pydata.org/en/latest/docs/reference/plotting.html#bokeh.plotting.Figure.square\" title=\"bokeh.plotting.Figure.square\"><code class=\"xref py py-func docutils literal\"><span class=\"pre\">square()</span></code></a></li>\n",
    "</ul>\n",
    "</td><td><ul>\n",
    "<li><a href=\"http://bokeh.pydata.org/en/latest/docs/reference/plotting.html#bokeh.plotting.Figure.square_cross\" title=\"bokeh.plotting.Figure.square_cross\"><code class=\"xref py py-func docutils literal\"><span class=\"pre\">square_cross()</span></code></a></li>\n",
    "<li><a href=\"http://bokeh.pydata.org/en/latest/docs/reference/plotting.html#bokeh.plotting.Figure.square_x\" title=\"bokeh.plotting.Figure.square_x\"><code class=\"xref py py-func docutils literal\"><span class=\"pre\">square_x()</span></code></a></li>\n",
    "<li><a href=\"http://bokeh.pydata.org/en/latest/docs/reference/plotting.html#bokeh.plotting.Figure.triangle\" title=\"bokeh.plotting.Figure.triangle\"><code class=\"xref py py-func docutils literal\"><span class=\"pre\">triangle()</span></code></a></li>\n",
    "<li><a href=\"http://bokeh.pydata.org/en/latest/docs/reference/plotting.html#bokeh.plotting.Figure.x\" title=\"bokeh.plotting.Figure.x\"><code class=\"xref py py-func docutils literal\"><span class=\"pre\">x()</span></code></a></li>\n",
    "</ul>\n",
    "</td></tr></table>"
   ]
  },
  {
   "cell_type": "code",
   "execution_count": 8,
   "metadata": {},
   "outputs": [
    {
     "data": {
      "text/html": [
       "\n",
       "<div class=\"bk-root\">\n",
       "    <div class=\"bk-plotdiv\" id=\"b31353bf-d57a-4fc3-9fed-c79c77673032\"></div>\n",
       "</div>"
      ]
     },
     "metadata": {},
     "output_type": "display_data"
    },
    {
     "data": {
      "application/javascript": [
       "(function(root) {\n",
       "  function embed_document(root) {\n",
       "    \n",
       "  var docs_json = {\"862f8ca6-420e-4eb2-9174-ba3ad81ee112\":{\"roots\":{\"references\":[{\"attributes\":{},\"id\":\"58c40edd-ef13-488f-bb5f-122d8512b38f\",\"type\":\"WheelZoomTool\"},{\"attributes\":{\"overlay\":{\"id\":\"14f1a535-47c0-4ef0-b8c7-9ff9cb3374fb\",\"type\":\"BoxAnnotation\"}},\"id\":\"9f00aeb4-c1aa-48fe-a7a0-561a799db8ff\",\"type\":\"BoxZoomTool\"},{\"attributes\":{},\"id\":\"3d17d87e-3d46-4227-8bdf-86fa1996ea55\",\"type\":\"SaveTool\"},{\"attributes\":{},\"id\":\"414aabb3-30f5-450a-a51a-c08421fab5aa\",\"type\":\"ResetTool\"},{\"attributes\":{\"formatter\":{\"id\":\"4e5e45d8-d4e0-4f10-82b3-00f561089fa8\",\"type\":\"BasicTickFormatter\"},\"plot\":{\"id\":\"2cff40ba-e403-49cc-b6d2-8780a94220f1\",\"subtype\":\"Figure\",\"type\":\"Plot\"},\"ticker\":{\"id\":\"cdda0be3-1a89-4c0b-988f-f9ce417a2bd0\",\"type\":\"BasicTicker\"}},\"id\":\"2c29d005-46b7-4602-8202-e97f1f3a3622\",\"type\":\"LinearAxis\"},{\"attributes\":{},\"id\":\"cdda0be3-1a89-4c0b-988f-f9ce417a2bd0\",\"type\":\"BasicTicker\"},{\"attributes\":{},\"id\":\"4e5e45d8-d4e0-4f10-82b3-00f561089fa8\",\"type\":\"BasicTickFormatter\"},{\"attributes\":{},\"id\":\"1ac8f9fb-9927-4a3f-bfd1-9a32d4d8c710\",\"type\":\"HelpTool\"},{\"attributes\":{\"plot\":null,\"text\":\"\"},\"id\":\"44752c89-8a7b-4239-aebd-a95c69b0a869\",\"type\":\"Title\"},{\"attributes\":{},\"id\":\"4b14c95e-8be7-4b4b-8a7c-80dabb61fed7\",\"type\":\"PanTool\"},{\"attributes\":{\"data_source\":{\"id\":\"23786890-52fb-41fb-a678-c10bf3d46b4d\",\"type\":\"ColumnDataSource\"},\"glyph\":{\"id\":\"db6936f7-cbd4-412a-892a-304cbb8c6c52\",\"type\":\"Diamond\"},\"hover_glyph\":null,\"muted_glyph\":null,\"nonselection_glyph\":{\"id\":\"42706e22-d588-4e03-8fcc-f9b2fd392ab1\",\"type\":\"Diamond\"},\"selection_glyph\":null,\"view\":{\"id\":\"0c57a854-0d2f-4718-b69c-41aa8136719d\",\"type\":\"CDSView\"}},\"id\":\"e1eb2eec-e0f1-48ac-a86e-051e5f575651\",\"type\":\"GlyphRenderer\"},{\"attributes\":{},\"id\":\"61f33642-ac9a-4f7b-8a07-cfe1611fefd9\",\"type\":\"BasicTicker\"},{\"attributes\":{},\"id\":\"426d3e61-c8ed-4dee-9c8f-071248b02274\",\"type\":\"BasicTickFormatter\"},{\"attributes\":{\"bottom_units\":\"screen\",\"fill_alpha\":{\"value\":0.5},\"fill_color\":{\"value\":\"lightgrey\"},\"left_units\":\"screen\",\"level\":\"overlay\",\"line_alpha\":{\"value\":1.0},\"line_color\":{\"value\":\"black\"},\"line_dash\":[4,4],\"line_width\":{\"value\":2},\"plot\":null,\"render_mode\":\"css\",\"right_units\":\"screen\",\"top_units\":\"screen\"},\"id\":\"14f1a535-47c0-4ef0-b8c7-9ff9cb3374fb\",\"type\":\"BoxAnnotation\"},{\"attributes\":{\"callback\":null,\"column_names\":[\"x\",\"y\",\"size\"],\"data\":{\"size\":[10,15,20,25,30],\"x\":[1,2,3,4,5],\"y\":[6,7,2,4,5]}},\"id\":\"23786890-52fb-41fb-a678-c10bf3d46b4d\",\"type\":\"ColumnDataSource\"},{\"attributes\":{\"fill_alpha\":{\"value\":0.6},\"fill_color\":{\"value\":\"firebrick\"},\"line_alpha\":{\"value\":0.6},\"line_color\":{\"value\":\"firebrick\"},\"size\":{\"field\":\"size\",\"units\":\"screen\"},\"x\":{\"field\":\"x\"},\"y\":{\"field\":\"y\"}},\"id\":\"db6936f7-cbd4-412a-892a-304cbb8c6c52\",\"type\":\"Diamond\"},{\"attributes\":{\"below\":[{\"id\":\"2c29d005-46b7-4602-8202-e97f1f3a3622\",\"type\":\"LinearAxis\"}],\"left\":[{\"id\":\"d256ad75-3984-4f48-b345-ee84c790f092\",\"type\":\"LinearAxis\"}],\"plot_height\":400,\"plot_width\":400,\"renderers\":[{\"id\":\"2c29d005-46b7-4602-8202-e97f1f3a3622\",\"type\":\"LinearAxis\"},{\"id\":\"2bdece4b-91f1-478c-9437-db2b81ef5926\",\"type\":\"Grid\"},{\"id\":\"d256ad75-3984-4f48-b345-ee84c790f092\",\"type\":\"LinearAxis\"},{\"id\":\"e263a20e-8dbe-4630-beec-92161c4af181\",\"type\":\"Grid\"},{\"id\":\"14f1a535-47c0-4ef0-b8c7-9ff9cb3374fb\",\"type\":\"BoxAnnotation\"},{\"id\":\"e1eb2eec-e0f1-48ac-a86e-051e5f575651\",\"type\":\"GlyphRenderer\"}],\"title\":{\"id\":\"44752c89-8a7b-4239-aebd-a95c69b0a869\",\"type\":\"Title\"},\"toolbar\":{\"id\":\"e904b575-10ab-4bdd-ad9f-0dc96a4f9e43\",\"type\":\"Toolbar\"},\"x_range\":{\"id\":\"8d202aa1-5d9a-46ae-9fb0-141f1b0a6de6\",\"type\":\"DataRange1d\"},\"x_scale\":{\"id\":\"3849c0a4-28e1-4147-95ed-9c8fb25307b8\",\"type\":\"LinearScale\"},\"y_range\":{\"id\":\"039da839-02b2-40f2-84dd-aa1d982fc31e\",\"type\":\"DataRange1d\"},\"y_scale\":{\"id\":\"c4fa11e8-56d3-4474-87a8-3439e29edb2d\",\"type\":\"LinearScale\"}},\"id\":\"2cff40ba-e403-49cc-b6d2-8780a94220f1\",\"subtype\":\"Figure\",\"type\":\"Plot\"},{\"attributes\":{\"formatter\":{\"id\":\"426d3e61-c8ed-4dee-9c8f-071248b02274\",\"type\":\"BasicTickFormatter\"},\"plot\":{\"id\":\"2cff40ba-e403-49cc-b6d2-8780a94220f1\",\"subtype\":\"Figure\",\"type\":\"Plot\"},\"ticker\":{\"id\":\"61f33642-ac9a-4f7b-8a07-cfe1611fefd9\",\"type\":\"BasicTicker\"}},\"id\":\"d256ad75-3984-4f48-b345-ee84c790f092\",\"type\":\"LinearAxis\"},{\"attributes\":{},\"id\":\"c4fa11e8-56d3-4474-87a8-3439e29edb2d\",\"type\":\"LinearScale\"},{\"attributes\":{\"plot\":{\"id\":\"2cff40ba-e403-49cc-b6d2-8780a94220f1\",\"subtype\":\"Figure\",\"type\":\"Plot\"},\"ticker\":{\"id\":\"cdda0be3-1a89-4c0b-988f-f9ce417a2bd0\",\"type\":\"BasicTicker\"}},\"id\":\"2bdece4b-91f1-478c-9437-db2b81ef5926\",\"type\":\"Grid\"},{\"attributes\":{\"fill_alpha\":{\"value\":0.1},\"fill_color\":{\"value\":\"#1f77b4\"},\"line_alpha\":{\"value\":0.1},\"line_color\":{\"value\":\"#1f77b4\"},\"size\":{\"field\":\"size\",\"units\":\"screen\"},\"x\":{\"field\":\"x\"},\"y\":{\"field\":\"y\"}},\"id\":\"42706e22-d588-4e03-8fcc-f9b2fd392ab1\",\"type\":\"Diamond\"},{\"attributes\":{\"dimension\":1,\"plot\":{\"id\":\"2cff40ba-e403-49cc-b6d2-8780a94220f1\",\"subtype\":\"Figure\",\"type\":\"Plot\"},\"ticker\":{\"id\":\"61f33642-ac9a-4f7b-8a07-cfe1611fefd9\",\"type\":\"BasicTicker\"}},\"id\":\"e263a20e-8dbe-4630-beec-92161c4af181\",\"type\":\"Grid\"},{\"attributes\":{\"source\":{\"id\":\"23786890-52fb-41fb-a678-c10bf3d46b4d\",\"type\":\"ColumnDataSource\"}},\"id\":\"0c57a854-0d2f-4718-b69c-41aa8136719d\",\"type\":\"CDSView\"},{\"attributes\":{\"callback\":null},\"id\":\"8d202aa1-5d9a-46ae-9fb0-141f1b0a6de6\",\"type\":\"DataRange1d\"},{\"attributes\":{},\"id\":\"3849c0a4-28e1-4147-95ed-9c8fb25307b8\",\"type\":\"LinearScale\"},{\"attributes\":{\"active_drag\":\"auto\",\"active_inspect\":\"auto\",\"active_scroll\":\"auto\",\"active_tap\":\"auto\",\"tools\":[{\"id\":\"4b14c95e-8be7-4b4b-8a7c-80dabb61fed7\",\"type\":\"PanTool\"},{\"id\":\"58c40edd-ef13-488f-bb5f-122d8512b38f\",\"type\":\"WheelZoomTool\"},{\"id\":\"9f00aeb4-c1aa-48fe-a7a0-561a799db8ff\",\"type\":\"BoxZoomTool\"},{\"id\":\"3d17d87e-3d46-4227-8bdf-86fa1996ea55\",\"type\":\"SaveTool\"},{\"id\":\"414aabb3-30f5-450a-a51a-c08421fab5aa\",\"type\":\"ResetTool\"},{\"id\":\"1ac8f9fb-9927-4a3f-bfd1-9a32d4d8c710\",\"type\":\"HelpTool\"}]},\"id\":\"e904b575-10ab-4bdd-ad9f-0dc96a4f9e43\",\"type\":\"Toolbar\"},{\"attributes\":{\"callback\":null},\"id\":\"039da839-02b2-40f2-84dd-aa1d982fc31e\",\"type\":\"DataRange1d\"}],\"root_ids\":[\"2cff40ba-e403-49cc-b6d2-8780a94220f1\"]},\"title\":\"Bokeh Application\",\"version\":\"0.12.14\"}};\n",
       "  var render_items = [{\"docid\":\"862f8ca6-420e-4eb2-9174-ba3ad81ee112\",\"elementid\":\"b31353bf-d57a-4fc3-9fed-c79c77673032\",\"modelid\":\"2cff40ba-e403-49cc-b6d2-8780a94220f1\"}];\n",
       "  root.Bokeh.embed.embed_items_notebook(docs_json, render_items);\n",
       "\n",
       "  }\n",
       "  if (root.Bokeh !== undefined) {\n",
       "    embed_document(root);\n",
       "  } else {\n",
       "    var attempts = 0;\n",
       "    var timer = setInterval(function(root) {\n",
       "      if (root.Bokeh !== undefined) {\n",
       "        embed_document(root);\n",
       "        clearInterval(timer);\n",
       "      }\n",
       "      attempts++;\n",
       "      if (attempts > 100) {\n",
       "        console.log(\"Bokeh: ERROR: Unable to run BokehJS code because BokehJS library is missing\")\n",
       "        clearInterval(timer);\n",
       "      }\n",
       "    }, 10, root)\n",
       "  }\n",
       "})(window);"
      ],
      "application/vnd.bokehjs_exec.v0+json": ""
     },
     "metadata": {
      "application/vnd.bokehjs_exec.v0+json": {
       "id": "2cff40ba-e403-49cc-b6d2-8780a94220f1"
      }
     },
     "output_type": "display_data"
    }
   ],
   "source": [
    "# EXERCISE: Plot some different markers in this cell\n",
    "# create a new plot using figure\n",
    "p = figure(plot_width=400, plot_height=400)\n",
    "\n",
    "# add a square renderer with a size, color, alpha, and sizes\n",
    "p.diamond([1, 2, 3, 4, 5], [6, 7, 2, 4, 5], size=[10, 15, 20, 25, 30], color=\"firebrick\", alpha=0.6)\n",
    "\n",
    "show(p) # show the results\n"
   ]
  },
  {
   "cell_type": "markdown",
   "metadata": {},
   "source": [
    "# Basic Line Plots"
   ]
  },
  {
   "cell_type": "code",
   "execution_count": 9,
   "metadata": {},
   "outputs": [
    {
     "data": {
      "text/html": [
       "\n",
       "<div class=\"bk-root\">\n",
       "    <div class=\"bk-plotdiv\" id=\"be61e2e5-6fbc-4bec-84ee-8a3c14273c5f\"></div>\n",
       "</div>"
      ]
     },
     "metadata": {},
     "output_type": "display_data"
    },
    {
     "data": {
      "application/javascript": [
       "(function(root) {\n",
       "  function embed_document(root) {\n",
       "    \n",
       "  var docs_json = {\"8040ef3d-ea4a-400c-8375-8d9b0000f805\":{\"roots\":{\"references\":[{\"attributes\":{\"line_color\":\"#1f77b4\",\"line_width\":2,\"x\":{\"field\":\"x\"},\"y\":{\"field\":\"y\"}},\"id\":\"d37a2cad-067d-43eb-8ac3-3786b9ab707f\",\"type\":\"Line\"},{\"attributes\":{},\"id\":\"4e2e44a4-e425-4486-99c2-386ffe3a32a5\",\"type\":\"SaveTool\"},{\"attributes\":{\"overlay\":{\"id\":\"c6706dda-08cd-4a36-ad3d-0cc48be2a13e\",\"type\":\"BoxAnnotation\"}},\"id\":\"a15094dc-ad51-425f-818b-922e2cc52923\",\"type\":\"BoxZoomTool\"},{\"attributes\":{},\"id\":\"b6777745-8f37-4226-b3ab-764aaca2f484\",\"type\":\"PanTool\"},{\"attributes\":{},\"id\":\"5a185274-ef9b-428d-ac74-de3ca774e0d8\",\"type\":\"BasicTickFormatter\"},{\"attributes\":{\"callback\":null},\"id\":\"b434c9b7-0567-4bcf-aca0-ee0108c55f11\",\"type\":\"DataRange1d\"},{\"attributes\":{\"active_drag\":\"auto\",\"active_inspect\":\"auto\",\"active_scroll\":\"auto\",\"active_tap\":\"auto\",\"tools\":[{\"id\":\"b6777745-8f37-4226-b3ab-764aaca2f484\",\"type\":\"PanTool\"},{\"id\":\"91833ec7-7097-4d79-a36c-47f307f97e51\",\"type\":\"WheelZoomTool\"},{\"id\":\"a15094dc-ad51-425f-818b-922e2cc52923\",\"type\":\"BoxZoomTool\"},{\"id\":\"4e2e44a4-e425-4486-99c2-386ffe3a32a5\",\"type\":\"SaveTool\"},{\"id\":\"15dcda10-fd20-453e-bc1f-239f15a651b5\",\"type\":\"ResetTool\"},{\"id\":\"6e89ee15-a983-4bd8-a690-132f648697a3\",\"type\":\"HelpTool\"}]},\"id\":\"95277421-9ad4-42fe-afac-351f34b20ab4\",\"type\":\"Toolbar\"},{\"attributes\":{\"callback\":null},\"id\":\"af52e0eb-98d7-4033-88a3-a69ca543c731\",\"type\":\"DataRange1d\"},{\"attributes\":{\"below\":[{\"id\":\"181b3f75-c34f-48ec-ae78-53e144442e96\",\"type\":\"LinearAxis\"}],\"left\":[{\"id\":\"df2e82fd-3d6b-49f3-92ac-99cb8d03ebea\",\"type\":\"LinearAxis\"}],\"plot_height\":400,\"plot_width\":400,\"renderers\":[{\"id\":\"181b3f75-c34f-48ec-ae78-53e144442e96\",\"type\":\"LinearAxis\"},{\"id\":\"79bf6157-7b58-4fa5-965c-cc8bd2c6eb17\",\"type\":\"Grid\"},{\"id\":\"df2e82fd-3d6b-49f3-92ac-99cb8d03ebea\",\"type\":\"LinearAxis\"},{\"id\":\"b560c0f5-7f26-4b93-955f-d0243042b893\",\"type\":\"Grid\"},{\"id\":\"c6706dda-08cd-4a36-ad3d-0cc48be2a13e\",\"type\":\"BoxAnnotation\"},{\"id\":\"83def53d-42c4-4b5c-8d77-ea5c834446e3\",\"type\":\"GlyphRenderer\"}],\"title\":{\"id\":\"04db265d-e99f-4ad4-8dd0-817311a045bb\",\"type\":\"Title\"},\"toolbar\":{\"id\":\"95277421-9ad4-42fe-afac-351f34b20ab4\",\"type\":\"Toolbar\"},\"x_range\":{\"id\":\"af52e0eb-98d7-4033-88a3-a69ca543c731\",\"type\":\"DataRange1d\"},\"x_scale\":{\"id\":\"3a6884dd-05bf-48b4-909c-b92bcb86a0cf\",\"type\":\"LinearScale\"},\"y_range\":{\"id\":\"b434c9b7-0567-4bcf-aca0-ee0108c55f11\",\"type\":\"DataRange1d\"},\"y_scale\":{\"id\":\"11e5803f-0125-4d4c-a592-8fd5dbeb176e\",\"type\":\"LinearScale\"}},\"id\":\"eb9ba523-fd63-49e4-b605-caf8d90fc3d7\",\"subtype\":\"Figure\",\"type\":\"Plot\"},{\"attributes\":{\"formatter\":{\"id\":\"5a185274-ef9b-428d-ac74-de3ca774e0d8\",\"type\":\"BasicTickFormatter\"},\"plot\":{\"id\":\"eb9ba523-fd63-49e4-b605-caf8d90fc3d7\",\"subtype\":\"Figure\",\"type\":\"Plot\"},\"ticker\":{\"id\":\"40641f08-58b6-46e9-871b-eedfe575c75d\",\"type\":\"BasicTicker\"}},\"id\":\"df2e82fd-3d6b-49f3-92ac-99cb8d03ebea\",\"type\":\"LinearAxis\"},{\"attributes\":{\"dimension\":1,\"plot\":{\"id\":\"eb9ba523-fd63-49e4-b605-caf8d90fc3d7\",\"subtype\":\"Figure\",\"type\":\"Plot\"},\"ticker\":{\"id\":\"40641f08-58b6-46e9-871b-eedfe575c75d\",\"type\":\"BasicTicker\"}},\"id\":\"b560c0f5-7f26-4b93-955f-d0243042b893\",\"type\":\"Grid\"},{\"attributes\":{\"source\":{\"id\":\"b6e19096-fe71-4dce-b9eb-c397941cd9b4\",\"type\":\"ColumnDataSource\"}},\"id\":\"c3ba7b70-2a9a-4354-b5a6-ab6e79009c5a\",\"type\":\"CDSView\"},{\"attributes\":{\"plot\":{\"id\":\"eb9ba523-fd63-49e4-b605-caf8d90fc3d7\",\"subtype\":\"Figure\",\"type\":\"Plot\"},\"ticker\":{\"id\":\"c8b97a25-5583-412a-bf58-082ac891472d\",\"type\":\"BasicTicker\"}},\"id\":\"79bf6157-7b58-4fa5-965c-cc8bd2c6eb17\",\"type\":\"Grid\"},{\"attributes\":{},\"id\":\"c8b97a25-5583-412a-bf58-082ac891472d\",\"type\":\"BasicTicker\"},{\"attributes\":{},\"id\":\"11e5803f-0125-4d4c-a592-8fd5dbeb176e\",\"type\":\"LinearScale\"},{\"attributes\":{\"data_source\":{\"id\":\"b6e19096-fe71-4dce-b9eb-c397941cd9b4\",\"type\":\"ColumnDataSource\"},\"glyph\":{\"id\":\"d37a2cad-067d-43eb-8ac3-3786b9ab707f\",\"type\":\"Line\"},\"hover_glyph\":null,\"muted_glyph\":null,\"nonselection_glyph\":{\"id\":\"b17a13cf-fb79-4af4-93ce-49089d4fff3a\",\"type\":\"Line\"},\"selection_glyph\":null,\"view\":{\"id\":\"c3ba7b70-2a9a-4354-b5a6-ab6e79009c5a\",\"type\":\"CDSView\"}},\"id\":\"83def53d-42c4-4b5c-8d77-ea5c834446e3\",\"type\":\"GlyphRenderer\"},{\"attributes\":{\"formatter\":{\"id\":\"52828655-51d3-4262-8035-5a91919f5930\",\"type\":\"BasicTickFormatter\"},\"plot\":{\"id\":\"eb9ba523-fd63-49e4-b605-caf8d90fc3d7\",\"subtype\":\"Figure\",\"type\":\"Plot\"},\"ticker\":{\"id\":\"c8b97a25-5583-412a-bf58-082ac891472d\",\"type\":\"BasicTicker\"}},\"id\":\"181b3f75-c34f-48ec-ae78-53e144442e96\",\"type\":\"LinearAxis\"},{\"attributes\":{},\"id\":\"3a6884dd-05bf-48b4-909c-b92bcb86a0cf\",\"type\":\"LinearScale\"},{\"attributes\":{\"callback\":null,\"column_names\":[\"x\",\"y\"],\"data\":{\"x\":[1,2,3,4,5],\"y\":[6,7,2,4,5]}},\"id\":\"b6e19096-fe71-4dce-b9eb-c397941cd9b4\",\"type\":\"ColumnDataSource\"},{\"attributes\":{\"line_alpha\":0.1,\"line_color\":\"#1f77b4\",\"line_width\":2,\"x\":{\"field\":\"x\"},\"y\":{\"field\":\"y\"}},\"id\":\"b17a13cf-fb79-4af4-93ce-49089d4fff3a\",\"type\":\"Line\"},{\"attributes\":{},\"id\":\"40641f08-58b6-46e9-871b-eedfe575c75d\",\"type\":\"BasicTicker\"},{\"attributes\":{},\"id\":\"91833ec7-7097-4d79-a36c-47f307f97e51\",\"type\":\"WheelZoomTool\"},{\"attributes\":{\"plot\":null,\"text\":\"My Line Plot\"},\"id\":\"04db265d-e99f-4ad4-8dd0-817311a045bb\",\"type\":\"Title\"},{\"attributes\":{},\"id\":\"6e89ee15-a983-4bd8-a690-132f648697a3\",\"type\":\"HelpTool\"},{\"attributes\":{\"bottom_units\":\"screen\",\"fill_alpha\":{\"value\":0.5},\"fill_color\":{\"value\":\"lightgrey\"},\"left_units\":\"screen\",\"level\":\"overlay\",\"line_alpha\":{\"value\":1.0},\"line_color\":{\"value\":\"black\"},\"line_dash\":[4,4],\"line_width\":{\"value\":2},\"plot\":null,\"render_mode\":\"css\",\"right_units\":\"screen\",\"top_units\":\"screen\"},\"id\":\"c6706dda-08cd-4a36-ad3d-0cc48be2a13e\",\"type\":\"BoxAnnotation\"},{\"attributes\":{},\"id\":\"15dcda10-fd20-453e-bc1f-239f15a651b5\",\"type\":\"ResetTool\"},{\"attributes\":{},\"id\":\"52828655-51d3-4262-8035-5a91919f5930\",\"type\":\"BasicTickFormatter\"}],\"root_ids\":[\"eb9ba523-fd63-49e4-b605-caf8d90fc3d7\"]},\"title\":\"Bokeh Application\",\"version\":\"0.12.14\"}};\n",
       "  var render_items = [{\"docid\":\"8040ef3d-ea4a-400c-8375-8d9b0000f805\",\"elementid\":\"be61e2e5-6fbc-4bec-84ee-8a3c14273c5f\",\"modelid\":\"eb9ba523-fd63-49e4-b605-caf8d90fc3d7\"}];\n",
       "  root.Bokeh.embed.embed_items_notebook(docs_json, render_items);\n",
       "\n",
       "  }\n",
       "  if (root.Bokeh !== undefined) {\n",
       "    embed_document(root);\n",
       "  } else {\n",
       "    var attempts = 0;\n",
       "    var timer = setInterval(function(root) {\n",
       "      if (root.Bokeh !== undefined) {\n",
       "        embed_document(root);\n",
       "        clearInterval(timer);\n",
       "      }\n",
       "      attempts++;\n",
       "      if (attempts > 100) {\n",
       "        console.log(\"Bokeh: ERROR: Unable to run BokehJS code because BokehJS library is missing\")\n",
       "        clearInterval(timer);\n",
       "      }\n",
       "    }, 10, root)\n",
       "  }\n",
       "})(window);"
      ],
      "application/vnd.bokehjs_exec.v0+json": ""
     },
     "metadata": {
      "application/vnd.bokehjs_exec.v0+json": {
       "id": "eb9ba523-fd63-49e4-b605-caf8d90fc3d7"
      }
     },
     "output_type": "display_data"
    }
   ],
   "source": [
    "# create a new plot (with a title) using figure\n",
    "p = figure(plot_width=400, plot_height=400, title=\"My Line Plot\")\n",
    "\n",
    "# add a line renderer\n",
    "p.line([1, 2, 3, 4, 5], [6, 7, 2, 4, 5], line_width=2)\n",
    "\n",
    "show(p) # show the results"
   ]
  },
  {
   "cell_type": "markdown",
   "metadata": {},
   "source": [
    "# Images"
   ]
  },
  {
   "cell_type": "markdown",
   "metadata": {},
   "source": [
    "The example below shows how to use the `image_rgba` method to display raw RGBA data. \n",
    "\n",
    "**Note**: This example makes use of the NumPy library "
   ]
  },
  {
   "cell_type": "code",
   "execution_count": 10,
   "metadata": {},
   "outputs": [
    {
     "data": {
      "text/html": [
       "\n",
       "<div class=\"bk-root\">\n",
       "    <div class=\"bk-plotdiv\" id=\"58023538-4c1d-401b-afe5-845cea5a4aa4\"></div>\n",
       "</div>"
      ]
     },
     "metadata": {},
     "output_type": "display_data"
    },
    {
     "data": {
      "application/javascript": [
       "(function(root) {\n",
       "  function embed_document(root) {\n",
       "    \n",
       "  var docs_json = {\"4eb96894-a74f-467f-aa40-65511322ef2c\":{\"roots\":{\"references\":[{\"attributes\":{\"plot\":{\"id\":\"ca9ff9ed-b138-4334-932b-fd5fbec7d548\",\"subtype\":\"Figure\",\"type\":\"Plot\"},\"ticker\":{\"id\":\"73ccbd15-bb11-4608-b075-f8a23d8b6713\",\"type\":\"BasicTicker\"}},\"id\":\"dd3b1c8c-bb45-4848-b140-4ff224f06259\",\"type\":\"Grid\"},{\"attributes\":{\"dh\":{\"field\":\"dh\",\"units\":\"data\"},\"dw\":{\"field\":\"dw\",\"units\":\"data\"},\"image\":{\"field\":\"image\"},\"x\":{\"field\":\"x\"},\"y\":{\"field\":\"y\"}},\"id\":\"2ad87213-e93f-47e5-a3b5-66db80472714\",\"type\":\"ImageRGBA\"},{\"attributes\":{\"formatter\":{\"id\":\"b0fbeebb-b0d3-42c7-91d6-981e2c2586e8\",\"type\":\"BasicTickFormatter\"},\"plot\":{\"id\":\"ca9ff9ed-b138-4334-932b-fd5fbec7d548\",\"subtype\":\"Figure\",\"type\":\"Plot\"},\"ticker\":{\"id\":\"73ccbd15-bb11-4608-b075-f8a23d8b6713\",\"type\":\"BasicTicker\"}},\"id\":\"19c8c3ce-a0e1-487c-8af1-dda4858dbe8e\",\"type\":\"LinearAxis\"},{\"attributes\":{},\"id\":\"83748ed7-f1a2-4a31-b43d-813ad732b4f7\",\"type\":\"LinearScale\"},{\"attributes\":{},\"id\":\"b0fbeebb-b0d3-42c7-91d6-981e2c2586e8\",\"type\":\"BasicTickFormatter\"},{\"attributes\":{\"active_drag\":\"auto\",\"active_inspect\":\"auto\",\"active_scroll\":\"auto\",\"active_tap\":\"auto\",\"tools\":[{\"id\":\"8a38cf36-4dd5-4c57-9493-f0bd1f1d38b5\",\"type\":\"PanTool\"},{\"id\":\"d65b59b5-f1a1-447c-b1cb-1e0005958337\",\"type\":\"WheelZoomTool\"},{\"id\":\"bafad33c-8e28-42c5-bf76-90e55a0762ab\",\"type\":\"BoxZoomTool\"},{\"id\":\"ec74020c-c5e4-462e-ad30-6d758b6fb768\",\"type\":\"SaveTool\"},{\"id\":\"f14f7368-61a6-46d3-86d8-45f8ea358ed7\",\"type\":\"ResetTool\"},{\"id\":\"55bb9e5e-a5dc-4b7a-8d48-ce5fe1290dc0\",\"type\":\"HelpTool\"}]},\"id\":\"aa05dc07-03cc-4508-b015-83a388287e3e\",\"type\":\"Toolbar\"},{\"attributes\":{},\"id\":\"73ccbd15-bb11-4608-b075-f8a23d8b6713\",\"type\":\"BasicTicker\"},{\"attributes\":{\"dh\":{\"field\":\"dh\",\"units\":\"data\"},\"dw\":{\"field\":\"dw\",\"units\":\"data\"},\"image\":{\"field\":\"image\"},\"x\":{\"field\":\"x\"},\"y\":{\"field\":\"y\"}},\"id\":\"72df99fd-b01c-4afe-aeb7-31c4b4e52671\",\"type\":\"ImageRGBA\"},{\"attributes\":{\"formatter\":{\"id\":\"3a9ea3b1-0326-403d-9c22-25de9d33d03c\",\"type\":\"BasicTickFormatter\"},\"plot\":{\"id\":\"ca9ff9ed-b138-4334-932b-fd5fbec7d548\",\"subtype\":\"Figure\",\"type\":\"Plot\"},\"ticker\":{\"id\":\"f7dd5d71-8c38-4a3e-a9de-35d5ee91b3a9\",\"type\":\"BasicTicker\"}},\"id\":\"6b2b0dac-ffda-4986-96e3-120eb245c631\",\"type\":\"LinearAxis\"},{\"attributes\":{\"callback\":null,\"end\":10},\"id\":\"fe6119ba-e280-4f56-8dd3-d55fb3bd3223\",\"type\":\"Range1d\"},{\"attributes\":{\"dimension\":1,\"plot\":{\"id\":\"ca9ff9ed-b138-4334-932b-fd5fbec7d548\",\"subtype\":\"Figure\",\"type\":\"Plot\"},\"ticker\":{\"id\":\"f7dd5d71-8c38-4a3e-a9de-35d5ee91b3a9\",\"type\":\"BasicTicker\"}},\"id\":\"9f5b1522-e3a5-4fde-a25a-20ab7cab9293\",\"type\":\"Grid\"},{\"attributes\":{\"data_source\":{\"id\":\"e561ddb1-7cc8-499f-8e03-71ec30da6b9c\",\"type\":\"ColumnDataSource\"},\"glyph\":{\"id\":\"2ad87213-e93f-47e5-a3b5-66db80472714\",\"type\":\"ImageRGBA\"},\"hover_glyph\":null,\"muted_glyph\":null,\"nonselection_glyph\":{\"id\":\"72df99fd-b01c-4afe-aeb7-31c4b4e52671\",\"type\":\"ImageRGBA\"},\"selection_glyph\":null,\"view\":{\"id\":\"2681dce7-9bc1-4beb-8c22-1745ee8f8640\",\"type\":\"CDSView\"}},\"id\":\"66b88b8d-229f-470a-ad04-d155649a5de3\",\"type\":\"GlyphRenderer\"},{\"attributes\":{},\"id\":\"f7dd5d71-8c38-4a3e-a9de-35d5ee91b3a9\",\"type\":\"BasicTicker\"},{\"attributes\":{\"callback\":null,\"column_names\":[\"image\",\"x\",\"y\",\"dw\",\"dh\"],\"data\":{\"dh\":[10],\"dw\":[10],\"image\":[{\"__ndarray__\":\"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\",\"dtype\":\"uint32\",\"shape\":[20,20]}],\"x\":[0],\"y\":[0]}},\"id\":\"e561ddb1-7cc8-499f-8e03-71ec30da6b9c\",\"type\":\"ColumnDataSource\"},{\"attributes\":{},\"id\":\"3a9ea3b1-0326-403d-9c22-25de9d33d03c\",\"type\":\"BasicTickFormatter\"},{\"attributes\":{},\"id\":\"8a38cf36-4dd5-4c57-9493-f0bd1f1d38b5\",\"type\":\"PanTool\"},{\"attributes\":{},\"id\":\"d65b59b5-f1a1-447c-b1cb-1e0005958337\",\"type\":\"WheelZoomTool\"},{\"attributes\":{\"overlay\":{\"id\":\"748f7e14-c982-4d9a-8f46-3b80986b528f\",\"type\":\"BoxAnnotation\"}},\"id\":\"bafad33c-8e28-42c5-bf76-90e55a0762ab\",\"type\":\"BoxZoomTool\"},{\"attributes\":{},\"id\":\"ec74020c-c5e4-462e-ad30-6d758b6fb768\",\"type\":\"SaveTool\"},{\"attributes\":{},\"id\":\"f14f7368-61a6-46d3-86d8-45f8ea358ed7\",\"type\":\"ResetTool\"},{\"attributes\":{},\"id\":\"652b7e1d-bcb4-42f8-b24c-57cf0aa99478\",\"type\":\"LinearScale\"},{\"attributes\":{\"below\":[{\"id\":\"19c8c3ce-a0e1-487c-8af1-dda4858dbe8e\",\"type\":\"LinearAxis\"}],\"left\":[{\"id\":\"6b2b0dac-ffda-4986-96e3-120eb245c631\",\"type\":\"LinearAxis\"}],\"renderers\":[{\"id\":\"19c8c3ce-a0e1-487c-8af1-dda4858dbe8e\",\"type\":\"LinearAxis\"},{\"id\":\"dd3b1c8c-bb45-4848-b140-4ff224f06259\",\"type\":\"Grid\"},{\"id\":\"6b2b0dac-ffda-4986-96e3-120eb245c631\",\"type\":\"LinearAxis\"},{\"id\":\"9f5b1522-e3a5-4fde-a25a-20ab7cab9293\",\"type\":\"Grid\"},{\"id\":\"748f7e14-c982-4d9a-8f46-3b80986b528f\",\"type\":\"BoxAnnotation\"},{\"id\":\"66b88b8d-229f-470a-ad04-d155649a5de3\",\"type\":\"GlyphRenderer\"}],\"title\":{\"id\":\"c5f1a6f6-ee3d-4415-a220-beb41e9da2b8\",\"type\":\"Title\"},\"toolbar\":{\"id\":\"aa05dc07-03cc-4508-b015-83a388287e3e\",\"type\":\"Toolbar\"},\"x_range\":{\"id\":\"3d5ee143-d89a-48bd-ae53-a48161e226b2\",\"type\":\"Range1d\"},\"x_scale\":{\"id\":\"652b7e1d-bcb4-42f8-b24c-57cf0aa99478\",\"type\":\"LinearScale\"},\"y_range\":{\"id\":\"fe6119ba-e280-4f56-8dd3-d55fb3bd3223\",\"type\":\"Range1d\"},\"y_scale\":{\"id\":\"83748ed7-f1a2-4a31-b43d-813ad732b4f7\",\"type\":\"LinearScale\"}},\"id\":\"ca9ff9ed-b138-4334-932b-fd5fbec7d548\",\"subtype\":\"Figure\",\"type\":\"Plot\"},{\"attributes\":{\"plot\":null,\"text\":\"\"},\"id\":\"c5f1a6f6-ee3d-4415-a220-beb41e9da2b8\",\"type\":\"Title\"},{\"attributes\":{},\"id\":\"55bb9e5e-a5dc-4b7a-8d48-ce5fe1290dc0\",\"type\":\"HelpTool\"},{\"attributes\":{\"callback\":null,\"end\":10},\"id\":\"3d5ee143-d89a-48bd-ae53-a48161e226b2\",\"type\":\"Range1d\"},{\"attributes\":{\"bottom_units\":\"screen\",\"fill_alpha\":{\"value\":0.5},\"fill_color\":{\"value\":\"lightgrey\"},\"left_units\":\"screen\",\"level\":\"overlay\",\"line_alpha\":{\"value\":1.0},\"line_color\":{\"value\":\"black\"},\"line_dash\":[4,4],\"line_width\":{\"value\":2},\"plot\":null,\"render_mode\":\"css\",\"right_units\":\"screen\",\"top_units\":\"screen\"},\"id\":\"748f7e14-c982-4d9a-8f46-3b80986b528f\",\"type\":\"BoxAnnotation\"},{\"attributes\":{\"source\":{\"id\":\"e561ddb1-7cc8-499f-8e03-71ec30da6b9c\",\"type\":\"ColumnDataSource\"}},\"id\":\"2681dce7-9bc1-4beb-8c22-1745ee8f8640\",\"type\":\"CDSView\"}],\"root_ids\":[\"ca9ff9ed-b138-4334-932b-fd5fbec7d548\"]},\"title\":\"Bokeh Application\",\"version\":\"0.12.14\"}};\n",
       "  var render_items = [{\"docid\":\"4eb96894-a74f-467f-aa40-65511322ef2c\",\"elementid\":\"58023538-4c1d-401b-afe5-845cea5a4aa4\",\"modelid\":\"ca9ff9ed-b138-4334-932b-fd5fbec7d548\"}];\n",
       "  root.Bokeh.embed.embed_items_notebook(docs_json, render_items);\n",
       "\n",
       "  }\n",
       "  if (root.Bokeh !== undefined) {\n",
       "    embed_document(root);\n",
       "  } else {\n",
       "    var attempts = 0;\n",
       "    var timer = setInterval(function(root) {\n",
       "      if (root.Bokeh !== undefined) {\n",
       "        embed_document(root);\n",
       "        clearInterval(timer);\n",
       "      }\n",
       "      attempts++;\n",
       "      if (attempts > 100) {\n",
       "        console.log(\"Bokeh: ERROR: Unable to run BokehJS code because BokehJS library is missing\")\n",
       "        clearInterval(timer);\n",
       "      }\n",
       "    }, 10, root)\n",
       "  }\n",
       "})(window);"
      ],
      "application/vnd.bokehjs_exec.v0+json": ""
     },
     "metadata": {
      "application/vnd.bokehjs_exec.v0+json": {
       "id": "ca9ff9ed-b138-4334-932b-fd5fbec7d548"
      }
     },
     "output_type": "display_data"
    }
   ],
   "source": [
    "from __future__ import division\n",
    "import numpy as np\n",
    "\n",
    "# set up some data\n",
    "N = 20\n",
    "img = np.empty((N,N), dtype=np.uint32)\n",
    "view = img.view(dtype=np.uint8).reshape((N, N, 4))\n",
    "for i in range(N):\n",
    "    for j in range(N):\n",
    "        view[i, j, 0] = int(i/N*255) # red\n",
    "        view[i, j, 1] = 158          # green\n",
    "        view[i, j, 2] = int(j/N*255) # blue\n",
    "        view[i, j, 3] = 255          # alpha\n",
    "        \n",
    "# create a new plot (with a fixed range) using figure\n",
    "p = figure(x_range=[0,10], y_range=[0,10])\n",
    "\n",
    "# add an RGBA image renderer\n",
    "p.image_rgba(image=[img], x=[0], y=[0], dw=[10], dh=[10])\n",
    "\n",
    "show(p) # show the results"
   ]
  },
  {
   "cell_type": "markdown",
   "metadata": {},
   "source": [
    "# Other Kinds of Glyphs\n",
    "\n",
    "Bokeh supports many other kinds of glyphs. You can click on the User Guide links below to see how to create plots with these glyphs using the [`bokeh.plotting`](http://bokeh.pydata.org/en/latest/docs/user_guide/plotting.html) interface.\n",
    "\n",
    "* [Rectangles and Ovals](http://bokeh.pydata.org/en/latest/docs/user_guide/plotting.html#rectangles-and-ovals)\n",
    "* [Segments and Rays](http://bokeh.pydata.org/en/latest/docs/user_guide/plotting.html#segments-and-rays)\n",
    "* [Wedges and Arcs](http://bokeh.pydata.org/en/latest/docs/user_guide/plotting.html#wedges-and-arcs)\n",
    "* [Specialized Curves](http://bokeh.pydata.org/en/latest/docs/user_guide/plotting.html#specialized-curves)\n"
   ]
  },
  {
   "cell_type": "code",
   "execution_count": 12,
   "metadata": {},
   "outputs": [
    {
     "data": {
      "text/html": [
       "\n",
       "<div class=\"bk-root\">\n",
       "    <div class=\"bk-plotdiv\" id=\"805ce4b0-fd7f-42d8-9690-7f7179127733\"></div>\n",
       "</div>"
      ]
     },
     "metadata": {},
     "output_type": "display_data"
    },
    {
     "data": {
      "application/javascript": [
       "(function(root) {\n",
       "  function embed_document(root) {\n",
       "    \n",
       "  var docs_json = {\"62c03ea2-b784-4a15-bfe0-86135a550923\":{\"roots\":{\"references\":[{\"attributes\":{},\"id\":\"3b2a2dfb-f87d-4b09-8bdb-e20fdc063c3d\",\"type\":\"LinearScale\"},{\"attributes\":{},\"id\":\"2116bd46-23c0-48b9-8096-d757145b0ae0\",\"type\":\"BasicTickFormatter\"},{\"attributes\":{\"formatter\":{\"id\":\"034af523-7100-47f2-ae78-b7c7c7ba5da4\",\"type\":\"BasicTickFormatter\"},\"plot\":{\"id\":\"63744d01-7d91-44d6-b32f-f991a662b401\",\"subtype\":\"Figure\",\"type\":\"Plot\"},\"ticker\":{\"id\":\"8b7249e9-fb6d-453c-9efe-2d2b2968af40\",\"type\":\"BasicTicker\"}},\"id\":\"1d98c23c-59e8-4160-9c8e-d36af43a8b16\",\"type\":\"LinearAxis\"},{\"attributes\":{\"direction\":\"clock\",\"end_angle\":{\"units\":\"rad\",\"value\":4.8},\"fill_alpha\":{\"value\":0.1},\"fill_color\":{\"value\":\"#1f77b4\"},\"line_alpha\":{\"value\":0.1},\"line_color\":{\"value\":\"#1f77b4\"},\"radius\":{\"units\":\"data\",\"value\":0.2},\"start_angle\":{\"units\":\"rad\",\"value\":0.4},\"x\":{\"field\":\"x\"},\"y\":{\"field\":\"y\"}},\"id\":\"beb1b4f2-9bef-43d0-b1fc-07371881c6cc\",\"type\":\"Wedge\"},{\"attributes\":{},\"id\":\"e1ed84cc-b968-4998-8950-9d26137820c1\",\"type\":\"LinearScale\"},{\"attributes\":{\"bottom_units\":\"screen\",\"fill_alpha\":{\"value\":0.5},\"fill_color\":{\"value\":\"lightgrey\"},\"left_units\":\"screen\",\"level\":\"overlay\",\"line_alpha\":{\"value\":1.0},\"line_color\":{\"value\":\"black\"},\"line_dash\":[4,4],\"line_width\":{\"value\":2},\"plot\":null,\"render_mode\":\"css\",\"right_units\":\"screen\",\"top_units\":\"screen\"},\"id\":\"8f53cbc8-b21e-4b95-93b4-a0faca29c53e\",\"type\":\"BoxAnnotation\"},{\"attributes\":{\"callback\":null},\"id\":\"539cd706-bd7a-4b4f-a948-fbcdcf1b5fdd\",\"type\":\"DataRange1d\"},{\"attributes\":{},\"id\":\"5fd75953-2508-4f90-9c2f-fa507b93bb8f\",\"type\":\"HelpTool\"},{\"attributes\":{\"data_source\":{\"id\":\"31a8f32a-b0d0-45eb-b34b-249e1e0e7ab4\",\"type\":\"ColumnDataSource\"},\"glyph\":{\"id\":\"7ab32d73-4d8f-40f2-bd23-71ba15d3f472\",\"type\":\"Wedge\"},\"hover_glyph\":null,\"muted_glyph\":null,\"nonselection_glyph\":{\"id\":\"beb1b4f2-9bef-43d0-b1fc-07371881c6cc\",\"type\":\"Wedge\"},\"selection_glyph\":null,\"view\":{\"id\":\"760f7d2b-78b5-4248-a52a-339fd4b81140\",\"type\":\"CDSView\"}},\"id\":\"a65da60c-52a5-41c0-877b-48acc3072423\",\"type\":\"GlyphRenderer\"},{\"attributes\":{},\"id\":\"8b7249e9-fb6d-453c-9efe-2d2b2968af40\",\"type\":\"BasicTicker\"},{\"attributes\":{\"formatter\":{\"id\":\"2116bd46-23c0-48b9-8096-d757145b0ae0\",\"type\":\"BasicTickFormatter\"},\"plot\":{\"id\":\"63744d01-7d91-44d6-b32f-f991a662b401\",\"subtype\":\"Figure\",\"type\":\"Plot\"},\"ticker\":{\"id\":\"b95219f1-bb38-459a-9755-2d4e096a3a1a\",\"type\":\"BasicTicker\"}},\"id\":\"8fd9633a-dd8b-4fe9-941d-23d274625a53\",\"type\":\"LinearAxis\"},{\"attributes\":{},\"id\":\"034af523-7100-47f2-ae78-b7c7c7ba5da4\",\"type\":\"BasicTickFormatter\"},{\"attributes\":{\"source\":{\"id\":\"31a8f32a-b0d0-45eb-b34b-249e1e0e7ab4\",\"type\":\"ColumnDataSource\"}},\"id\":\"760f7d2b-78b5-4248-a52a-339fd4b81140\",\"type\":\"CDSView\"},{\"attributes\":{\"dimension\":1,\"plot\":{\"id\":\"63744d01-7d91-44d6-b32f-f991a662b401\",\"subtype\":\"Figure\",\"type\":\"Plot\"},\"ticker\":{\"id\":\"b95219f1-bb38-459a-9755-2d4e096a3a1a\",\"type\":\"BasicTicker\"}},\"id\":\"9f3ece0e-832a-49b3-bc84-fbf1331639a3\",\"type\":\"Grid\"},{\"attributes\":{},\"id\":\"21a2c5f6-71c3-4e23-8125-31d5c3612aa9\",\"type\":\"WheelZoomTool\"},{\"attributes\":{\"overlay\":{\"id\":\"8f53cbc8-b21e-4b95-93b4-a0faca29c53e\",\"type\":\"BoxAnnotation\"}},\"id\":\"03a5f719-16ae-4559-aa8d-c0b78ead28dd\",\"type\":\"BoxZoomTool\"},{\"attributes\":{},\"id\":\"797d3e56-b80a-42d7-bbf9-52e4e5d6fb52\",\"type\":\"SaveTool\"},{\"attributes\":{},\"id\":\"271f75a7-9329-4320-af8a-efa27a923a3d\",\"type\":\"PanTool\"},{\"attributes\":{},\"id\":\"b95219f1-bb38-459a-9755-2d4e096a3a1a\",\"type\":\"BasicTicker\"},{\"attributes\":{\"callback\":null,\"column_names\":[\"x\",\"y\"],\"data\":{\"x\":[1,2,3,4,5],\"y\":[6,7,2,4,5]}},\"id\":\"31a8f32a-b0d0-45eb-b34b-249e1e0e7ab4\",\"type\":\"ColumnDataSource\"},{\"attributes\":{\"active_drag\":\"auto\",\"active_inspect\":\"auto\",\"active_scroll\":\"auto\",\"active_tap\":\"auto\",\"tools\":[{\"id\":\"271f75a7-9329-4320-af8a-efa27a923a3d\",\"type\":\"PanTool\"},{\"id\":\"21a2c5f6-71c3-4e23-8125-31d5c3612aa9\",\"type\":\"WheelZoomTool\"},{\"id\":\"03a5f719-16ae-4559-aa8d-c0b78ead28dd\",\"type\":\"BoxZoomTool\"},{\"id\":\"797d3e56-b80a-42d7-bbf9-52e4e5d6fb52\",\"type\":\"SaveTool\"},{\"id\":\"8a928da9-1442-41ca-aa59-497074dc2fbd\",\"type\":\"ResetTool\"},{\"id\":\"5fd75953-2508-4f90-9c2f-fa507b93bb8f\",\"type\":\"HelpTool\"}]},\"id\":\"8bc09375-14fc-4341-85fa-30875fb595c4\",\"type\":\"Toolbar\"},{\"attributes\":{},\"id\":\"8a928da9-1442-41ca-aa59-497074dc2fbd\",\"type\":\"ResetTool\"},{\"attributes\":{\"plot\":null,\"text\":\"\"},\"id\":\"1b11dbf0-9e2b-4674-a9c8-a18819bf73a5\",\"type\":\"Title\"},{\"attributes\":{\"callback\":null},\"id\":\"9fbdf343-4118-41de-9a4d-f9e3ae76826b\",\"type\":\"DataRange1d\"},{\"attributes\":{\"direction\":\"clock\",\"end_angle\":{\"units\":\"rad\",\"value\":4.8},\"fill_alpha\":{\"value\":0.6},\"fill_color\":{\"value\":\"firebrick\"},\"line_alpha\":{\"value\":0.6},\"line_color\":{\"value\":\"firebrick\"},\"radius\":{\"units\":\"data\",\"value\":0.2},\"start_angle\":{\"units\":\"rad\",\"value\":0.4},\"x\":{\"field\":\"x\"},\"y\":{\"field\":\"y\"}},\"id\":\"7ab32d73-4d8f-40f2-bd23-71ba15d3f472\",\"type\":\"Wedge\"},{\"attributes\":{\"below\":[{\"id\":\"1d98c23c-59e8-4160-9c8e-d36af43a8b16\",\"type\":\"LinearAxis\"}],\"left\":[{\"id\":\"8fd9633a-dd8b-4fe9-941d-23d274625a53\",\"type\":\"LinearAxis\"}],\"plot_height\":400,\"plot_width\":400,\"renderers\":[{\"id\":\"1d98c23c-59e8-4160-9c8e-d36af43a8b16\",\"type\":\"LinearAxis\"},{\"id\":\"db8e53b6-2868-4a3e-97a1-03f3a3656e64\",\"type\":\"Grid\"},{\"id\":\"8fd9633a-dd8b-4fe9-941d-23d274625a53\",\"type\":\"LinearAxis\"},{\"id\":\"9f3ece0e-832a-49b3-bc84-fbf1331639a3\",\"type\":\"Grid\"},{\"id\":\"8f53cbc8-b21e-4b95-93b4-a0faca29c53e\",\"type\":\"BoxAnnotation\"},{\"id\":\"a65da60c-52a5-41c0-877b-48acc3072423\",\"type\":\"GlyphRenderer\"}],\"title\":{\"id\":\"1b11dbf0-9e2b-4674-a9c8-a18819bf73a5\",\"type\":\"Title\"},\"toolbar\":{\"id\":\"8bc09375-14fc-4341-85fa-30875fb595c4\",\"type\":\"Toolbar\"},\"x_range\":{\"id\":\"9fbdf343-4118-41de-9a4d-f9e3ae76826b\",\"type\":\"DataRange1d\"},\"x_scale\":{\"id\":\"3b2a2dfb-f87d-4b09-8bdb-e20fdc063c3d\",\"type\":\"LinearScale\"},\"y_range\":{\"id\":\"539cd706-bd7a-4b4f-a948-fbcdcf1b5fdd\",\"type\":\"DataRange1d\"},\"y_scale\":{\"id\":\"e1ed84cc-b968-4998-8950-9d26137820c1\",\"type\":\"LinearScale\"}},\"id\":\"63744d01-7d91-44d6-b32f-f991a662b401\",\"subtype\":\"Figure\",\"type\":\"Plot\"},{\"attributes\":{\"plot\":{\"id\":\"63744d01-7d91-44d6-b32f-f991a662b401\",\"subtype\":\"Figure\",\"type\":\"Plot\"},\"ticker\":{\"id\":\"8b7249e9-fb6d-453c-9efe-2d2b2968af40\",\"type\":\"BasicTicker\"}},\"id\":\"db8e53b6-2868-4a3e-97a1-03f3a3656e64\",\"type\":\"Grid\"}],\"root_ids\":[\"63744d01-7d91-44d6-b32f-f991a662b401\"]},\"title\":\"Bokeh Application\",\"version\":\"0.12.14\"}};\n",
       "  var render_items = [{\"docid\":\"62c03ea2-b784-4a15-bfe0-86135a550923\",\"elementid\":\"805ce4b0-fd7f-42d8-9690-7f7179127733\",\"modelid\":\"63744d01-7d91-44d6-b32f-f991a662b401\"}];\n",
       "  root.Bokeh.embed.embed_items_notebook(docs_json, render_items);\n",
       "\n",
       "  }\n",
       "  if (root.Bokeh !== undefined) {\n",
       "    embed_document(root);\n",
       "  } else {\n",
       "    var attempts = 0;\n",
       "    var timer = setInterval(function(root) {\n",
       "      if (root.Bokeh !== undefined) {\n",
       "        embed_document(root);\n",
       "        clearInterval(timer);\n",
       "      }\n",
       "      attempts++;\n",
       "      if (attempts > 100) {\n",
       "        console.log(\"Bokeh: ERROR: Unable to run BokehJS code because BokehJS library is missing\")\n",
       "        clearInterval(timer);\n",
       "      }\n",
       "    }, 10, root)\n",
       "  }\n",
       "})(window);"
      ],
      "application/vnd.bokehjs_exec.v0+json": ""
     },
     "metadata": {
      "application/vnd.bokehjs_exec.v0+json": {
       "id": "63744d01-7d91-44d6-b32f-f991a662b401"
      }
     },
     "output_type": "display_data"
    }
   ],
   "source": [
    "# EXERCISE: Plot some of the other glyph types, following the examples in the User Guide. \n",
    "# create a new plot using figure\n",
    "p = figure(plot_width=400, plot_height=400)\n",
    "\n",
    "# add a square renderer with a size, color, alpha, and sizes\n",
    "p.wedge(x=[1, 2, 3, 4, 5], y=[6, 7, 2, 4, 5], radius=0.2, start_angle=0.4, end_angle=4.8, color=\"firebrick\", alpha=0.6, direction=\"clock\")\n",
    "\n",
    "show(p) # show the results\n"
   ]
  },
  {
   "cell_type": "markdown",
   "metadata": {},
   "source": [
    "# Plots with Multiple Glyphs \n",
    "\n",
    "It is possible to combine more than one glyph on a single figure. You just need to call multiple glyph methods on one figure object:"
   ]
  },
  {
   "cell_type": "code",
   "execution_count": 13,
   "metadata": {},
   "outputs": [
    {
     "data": {
      "text/html": [
       "\n",
       "<div class=\"bk-root\">\n",
       "    <div class=\"bk-plotdiv\" id=\"c4857e50-9fab-40b0-980b-cb34cf4d0c4e\"></div>\n",
       "</div>"
      ]
     },
     "metadata": {},
     "output_type": "display_data"
    },
    {
     "data": {
      "application/javascript": [
       "(function(root) {\n",
       "  function embed_document(root) {\n",
       "    \n",
       "  var docs_json = {\"f2bacc60-8686-4d63-976b-92f08b030a72\":{\"roots\":{\"references\":[{\"attributes\":{\"source\":{\"id\":\"e009a9d7-2d3b-482c-a53b-3d97dd106944\",\"type\":\"ColumnDataSource\"}},\"id\":\"c0ec149f-e8ff-4018-8491-7bf2fb07801f\",\"type\":\"CDSView\"},{\"attributes\":{},\"id\":\"f9957047-8bdb-4af6-ac6f-aff2e371818b\",\"type\":\"SaveTool\"},{\"attributes\":{},\"id\":\"6e6b4bc2-565e-4d62-a64c-2aaff2204cf2\",\"type\":\"LinearScale\"},{\"attributes\":{},\"id\":\"4e546f82-345b-4d9c-9b49-d766f0932c61\",\"type\":\"BasicTickFormatter\"},{\"attributes\":{\"callback\":null},\"id\":\"438411d6-3b64-4eb8-aed0-b1050c98abc2\",\"type\":\"DataRange1d\"},{\"attributes\":{\"formatter\":{\"id\":\"424f84d4-733c-4294-9bae-08b7859bf68e\",\"type\":\"BasicTickFormatter\"},\"plot\":{\"id\":\"4bfacf54-0204-410a-9a35-6692847633c1\",\"subtype\":\"Figure\",\"type\":\"Plot\"},\"ticker\":{\"id\":\"ba0bad61-0a57-436d-ae7a-75d832462efc\",\"type\":\"BasicTicker\"}},\"id\":\"dba74ea5-9c6b-4753-a7ad-26faebcb8d44\",\"type\":\"LinearAxis\"},{\"attributes\":{\"overlay\":{\"id\":\"9645fb58-e168-49bf-9b53-16217bf99519\",\"type\":\"BoxAnnotation\"}},\"id\":\"f503b001-3c35-4b57-8c1d-b21cbf60b3bf\",\"type\":\"BoxZoomTool\"},{\"attributes\":{},\"id\":\"424f84d4-733c-4294-9bae-08b7859bf68e\",\"type\":\"BasicTickFormatter\"},{\"attributes\":{\"data_source\":{\"id\":\"e009a9d7-2d3b-482c-a53b-3d97dd106944\",\"type\":\"ColumnDataSource\"},\"glyph\":{\"id\":\"1da53505-68de-428e-bc66-2dec40a73e5f\",\"type\":\"Circle\"},\"hover_glyph\":null,\"muted_glyph\":null,\"nonselection_glyph\":{\"id\":\"9f91277e-a037-49f7-ac76-6cbf04a6b4d9\",\"type\":\"Circle\"},\"selection_glyph\":null,\"view\":{\"id\":\"c0ec149f-e8ff-4018-8491-7bf2fb07801f\",\"type\":\"CDSView\"}},\"id\":\"b875c69b-00cc-4078-8c8d-7166f13cb0e3\",\"type\":\"GlyphRenderer\"},{\"attributes\":{\"source\":{\"id\":\"e4f34237-8c67-4eaa-b0e6-00dc4c806a01\",\"type\":\"ColumnDataSource\"}},\"id\":\"2a01d7f7-4af7-45d7-94d2-5d1c91c428e8\",\"type\":\"CDSView\"},{\"attributes\":{},\"id\":\"d04c19fd-0815-4f77-b9d9-c8cc76570a20\",\"type\":\"LinearScale\"},{\"attributes\":{\"line_color\":\"#1f77b4\",\"line_width\":2,\"x\":{\"field\":\"x\"},\"y\":{\"field\":\"y\"}},\"id\":\"4f6613b3-4677-4470-9d06-82299635a3e3\",\"type\":\"Line\"},{\"attributes\":{\"active_drag\":\"auto\",\"active_inspect\":\"auto\",\"active_scroll\":\"auto\",\"active_tap\":\"auto\",\"tools\":[{\"id\":\"ae9eb7e2-fc7d-4970-b83a-f3006549c6ce\",\"type\":\"PanTool\"},{\"id\":\"c0b180ef-47d0-42bf-8e17-3ee3898984ce\",\"type\":\"WheelZoomTool\"},{\"id\":\"f503b001-3c35-4b57-8c1d-b21cbf60b3bf\",\"type\":\"BoxZoomTool\"},{\"id\":\"f9957047-8bdb-4af6-ac6f-aff2e371818b\",\"type\":\"SaveTool\"},{\"id\":\"f5985f2c-88bd-4bf2-ae9f-ba5b8a531f1c\",\"type\":\"ResetTool\"},{\"id\":\"87fa4b9e-57cd-43fe-9c0f-d937cb9e222b\",\"type\":\"HelpTool\"}]},\"id\":\"a2facabd-baae-417c-88a7-5e4a1920664f\",\"type\":\"Toolbar\"},{\"attributes\":{\"bottom_units\":\"screen\",\"fill_alpha\":{\"value\":0.5},\"fill_color\":{\"value\":\"lightgrey\"},\"left_units\":\"screen\",\"level\":\"overlay\",\"line_alpha\":{\"value\":1.0},\"line_color\":{\"value\":\"black\"},\"line_dash\":[4,4],\"line_width\":{\"value\":2},\"plot\":null,\"render_mode\":\"css\",\"right_units\":\"screen\",\"top_units\":\"screen\"},\"id\":\"9645fb58-e168-49bf-9b53-16217bf99519\",\"type\":\"BoxAnnotation\"},{\"attributes\":{\"fill_color\":{\"value\":\"white\"},\"line_color\":{\"value\":\"#1f77b4\"},\"size\":{\"units\":\"screen\",\"value\":8},\"x\":{\"field\":\"x\"},\"y\":{\"field\":\"y\"}},\"id\":\"1da53505-68de-428e-bc66-2dec40a73e5f\",\"type\":\"Circle\"},{\"attributes\":{\"formatter\":{\"id\":\"4e546f82-345b-4d9c-9b49-d766f0932c61\",\"type\":\"BasicTickFormatter\"},\"plot\":{\"id\":\"4bfacf54-0204-410a-9a35-6692847633c1\",\"subtype\":\"Figure\",\"type\":\"Plot\"},\"ticker\":{\"id\":\"25fc56e5-ac3f-4d22-bcb2-7fe1cb19deac\",\"type\":\"BasicTicker\"}},\"id\":\"b87f2667-c868-43f3-ba74-7c07ea7d0e1e\",\"type\":\"LinearAxis\"},{\"attributes\":{\"fill_alpha\":{\"value\":0.1},\"fill_color\":{\"value\":\"#1f77b4\"},\"line_alpha\":{\"value\":0.1},\"line_color\":{\"value\":\"#1f77b4\"},\"size\":{\"units\":\"screen\",\"value\":8},\"x\":{\"field\":\"x\"},\"y\":{\"field\":\"y\"}},\"id\":\"9f91277e-a037-49f7-ac76-6cbf04a6b4d9\",\"type\":\"Circle\"},{\"attributes\":{\"callback\":null},\"id\":\"9d935c16-f916-4bda-a20d-3d8fc048b6fa\",\"type\":\"DataRange1d\"},{\"attributes\":{\"callback\":null,\"column_names\":[\"x\",\"y\"],\"data\":{\"x\":[1,2,3,4,5],\"y\":[6,7,8,7,3]}},\"id\":\"e009a9d7-2d3b-482c-a53b-3d97dd106944\",\"type\":\"ColumnDataSource\"},{\"attributes\":{\"callback\":null,\"column_names\":[\"x\",\"y\"],\"data\":{\"x\":[1,2,3,4,5],\"y\":[6,7,8,7,3]}},\"id\":\"e4f34237-8c67-4eaa-b0e6-00dc4c806a01\",\"type\":\"ColumnDataSource\"},{\"attributes\":{\"line_alpha\":0.1,\"line_color\":\"#1f77b4\",\"line_width\":2,\"x\":{\"field\":\"x\"},\"y\":{\"field\":\"y\"}},\"id\":\"9a8afb95-cd9f-4336-93da-7de17a37d4c3\",\"type\":\"Line\"},{\"attributes\":{\"plot\":null,\"text\":\"\"},\"id\":\"7c44dfc4-8ee0-4952-8212-f258189399ef\",\"type\":\"Title\"},{\"attributes\":{\"dimension\":1,\"plot\":{\"id\":\"4bfacf54-0204-410a-9a35-6692847633c1\",\"subtype\":\"Figure\",\"type\":\"Plot\"},\"ticker\":{\"id\":\"ba0bad61-0a57-436d-ae7a-75d832462efc\",\"type\":\"BasicTicker\"}},\"id\":\"92612fa6-6103-4000-b63f-e0a8d3e5bee2\",\"type\":\"Grid\"},{\"attributes\":{},\"id\":\"ba0bad61-0a57-436d-ae7a-75d832462efc\",\"type\":\"BasicTicker\"},{\"attributes\":{},\"id\":\"25fc56e5-ac3f-4d22-bcb2-7fe1cb19deac\",\"type\":\"BasicTicker\"},{\"attributes\":{},\"id\":\"ae9eb7e2-fc7d-4970-b83a-f3006549c6ce\",\"type\":\"PanTool\"},{\"attributes\":{},\"id\":\"f5985f2c-88bd-4bf2-ae9f-ba5b8a531f1c\",\"type\":\"ResetTool\"},{\"attributes\":{},\"id\":\"87fa4b9e-57cd-43fe-9c0f-d937cb9e222b\",\"type\":\"HelpTool\"},{\"attributes\":{\"plot\":{\"id\":\"4bfacf54-0204-410a-9a35-6692847633c1\",\"subtype\":\"Figure\",\"type\":\"Plot\"},\"ticker\":{\"id\":\"25fc56e5-ac3f-4d22-bcb2-7fe1cb19deac\",\"type\":\"BasicTicker\"}},\"id\":\"305fbbb0-e2ea-40e9-af00-72e19a3fa7f1\",\"type\":\"Grid\"},{\"attributes\":{\"below\":[{\"id\":\"b87f2667-c868-43f3-ba74-7c07ea7d0e1e\",\"type\":\"LinearAxis\"}],\"left\":[{\"id\":\"dba74ea5-9c6b-4753-a7ad-26faebcb8d44\",\"type\":\"LinearAxis\"}],\"plot_height\":400,\"plot_width\":400,\"renderers\":[{\"id\":\"b87f2667-c868-43f3-ba74-7c07ea7d0e1e\",\"type\":\"LinearAxis\"},{\"id\":\"305fbbb0-e2ea-40e9-af00-72e19a3fa7f1\",\"type\":\"Grid\"},{\"id\":\"dba74ea5-9c6b-4753-a7ad-26faebcb8d44\",\"type\":\"LinearAxis\"},{\"id\":\"92612fa6-6103-4000-b63f-e0a8d3e5bee2\",\"type\":\"Grid\"},{\"id\":\"9645fb58-e168-49bf-9b53-16217bf99519\",\"type\":\"BoxAnnotation\"},{\"id\":\"4186474a-656f-4dcd-93fa-a15566066872\",\"type\":\"GlyphRenderer\"},{\"id\":\"b875c69b-00cc-4078-8c8d-7166f13cb0e3\",\"type\":\"GlyphRenderer\"}],\"title\":{\"id\":\"7c44dfc4-8ee0-4952-8212-f258189399ef\",\"type\":\"Title\"},\"toolbar\":{\"id\":\"a2facabd-baae-417c-88a7-5e4a1920664f\",\"type\":\"Toolbar\"},\"x_range\":{\"id\":\"438411d6-3b64-4eb8-aed0-b1050c98abc2\",\"type\":\"DataRange1d\"},\"x_scale\":{\"id\":\"6e6b4bc2-565e-4d62-a64c-2aaff2204cf2\",\"type\":\"LinearScale\"},\"y_range\":{\"id\":\"9d935c16-f916-4bda-a20d-3d8fc048b6fa\",\"type\":\"DataRange1d\"},\"y_scale\":{\"id\":\"d04c19fd-0815-4f77-b9d9-c8cc76570a20\",\"type\":\"LinearScale\"}},\"id\":\"4bfacf54-0204-410a-9a35-6692847633c1\",\"subtype\":\"Figure\",\"type\":\"Plot\"},{\"attributes\":{\"data_source\":{\"id\":\"e4f34237-8c67-4eaa-b0e6-00dc4c806a01\",\"type\":\"ColumnDataSource\"},\"glyph\":{\"id\":\"4f6613b3-4677-4470-9d06-82299635a3e3\",\"type\":\"Line\"},\"hover_glyph\":null,\"muted_glyph\":null,\"nonselection_glyph\":{\"id\":\"9a8afb95-cd9f-4336-93da-7de17a37d4c3\",\"type\":\"Line\"},\"selection_glyph\":null,\"view\":{\"id\":\"2a01d7f7-4af7-45d7-94d2-5d1c91c428e8\",\"type\":\"CDSView\"}},\"id\":\"4186474a-656f-4dcd-93fa-a15566066872\",\"type\":\"GlyphRenderer\"},{\"attributes\":{},\"id\":\"c0b180ef-47d0-42bf-8e17-3ee3898984ce\",\"type\":\"WheelZoomTool\"}],\"root_ids\":[\"4bfacf54-0204-410a-9a35-6692847633c1\"]},\"title\":\"Bokeh Application\",\"version\":\"0.12.14\"}};\n",
       "  var render_items = [{\"docid\":\"f2bacc60-8686-4d63-976b-92f08b030a72\",\"elementid\":\"c4857e50-9fab-40b0-980b-cb34cf4d0c4e\",\"modelid\":\"4bfacf54-0204-410a-9a35-6692847633c1\"}];\n",
       "  root.Bokeh.embed.embed_items_notebook(docs_json, render_items);\n",
       "\n",
       "  }\n",
       "  if (root.Bokeh !== undefined) {\n",
       "    embed_document(root);\n",
       "  } else {\n",
       "    var attempts = 0;\n",
       "    var timer = setInterval(function(root) {\n",
       "      if (root.Bokeh !== undefined) {\n",
       "        embed_document(root);\n",
       "        clearInterval(timer);\n",
       "      }\n",
       "      attempts++;\n",
       "      if (attempts > 100) {\n",
       "        console.log(\"Bokeh: ERROR: Unable to run BokehJS code because BokehJS library is missing\")\n",
       "        clearInterval(timer);\n",
       "      }\n",
       "    }, 10, root)\n",
       "  }\n",
       "})(window);"
      ],
      "application/vnd.bokehjs_exec.v0+json": ""
     },
     "metadata": {
      "application/vnd.bokehjs_exec.v0+json": {
       "id": "4bfacf54-0204-410a-9a35-6692847633c1"
      }
     },
     "output_type": "display_data"
    }
   ],
   "source": [
    "# set up some data\n",
    "x = [1, 2, 3, 4, 5]\n",
    "y = [6, 7, 8, 7, 3]\n",
    "\n",
    "# create a new plot with figure\n",
    "p = figure(plot_width=400, plot_height=400)\n",
    "\n",
    "# add both a line and circles on the same plot\n",
    "p.line(x, y, line_width=2)\n",
    "p.circle(x, y, fill_color=\"white\", size=8)\n",
    "\n",
    "show(p) # show the results"
   ]
  },
  {
   "cell_type": "code",
   "execution_count": 16,
   "metadata": {},
   "outputs": [
    {
     "data": {
      "text/html": [
       "\n",
       "<div class=\"bk-root\">\n",
       "    <div class=\"bk-plotdiv\" id=\"b709bfa9-2730-4719-a6d4-753bcd9f3037\"></div>\n",
       "</div>"
      ]
     },
     "metadata": {},
     "output_type": "display_data"
    },
    {
     "data": {
      "application/javascript": [
       "(function(root) {\n",
       "  function embed_document(root) {\n",
       "    \n",
       "  var docs_json = {\"cd054ed2-8972-4cdb-8f5e-1b5c5361fe11\":{\"roots\":{\"references\":[{\"attributes\":{\"data_source\":{\"id\":\"a886dd86-8449-4c7a-afba-dc31303b4b4f\",\"type\":\"ColumnDataSource\"},\"glyph\":{\"id\":\"46d41aac-9454-431b-bad6-c0f9b64d8a47\",\"type\":\"InvertedTriangle\"},\"hover_glyph\":null,\"muted_glyph\":null,\"nonselection_glyph\":{\"id\":\"8b3eec0a-268f-4870-828e-a9ad04018be9\",\"type\":\"InvertedTriangle\"},\"selection_glyph\":null,\"view\":{\"id\":\"384f430d-ebb0-4c31-9c4e-91fad64c3c88\",\"type\":\"CDSView\"}},\"id\":\"5407802d-4920-4b9f-8896-f4afd891bf0d\",\"type\":\"GlyphRenderer\"},{\"attributes\":{\"plot\":null,\"text\":\"\"},\"id\":\"989ce6db-6982-488e-9f33-559d2f9711f2\",\"type\":\"Title\"},{\"attributes\":{\"formatter\":{\"id\":\"c2acd6b9-8081-4506-8fa6-c7d881769849\",\"type\":\"BasicTickFormatter\"},\"plot\":{\"id\":\"0b1a4780-6156-4b9a-86de-62735aa7663d\",\"subtype\":\"Figure\",\"type\":\"Plot\"},\"ticker\":{\"id\":\"b61c85d5-2b28-4d03-9faf-8f55ce15bfe7\",\"type\":\"BasicTicker\"}},\"id\":\"c994f038-6b88-4bea-9681-ee662c183ed1\",\"type\":\"LinearAxis\"},{\"attributes\":{\"callback\":null,\"column_names\":[\"x\",\"y\"],\"data\":{\"x\":[1,2,3,4,5],\"y\":[6,7,8,7,3]}},\"id\":\"a886dd86-8449-4c7a-afba-dc31303b4b4f\",\"type\":\"ColumnDataSource\"},{\"attributes\":{\"formatter\":{\"id\":\"963175fb-3f76-41f7-98e6-929795c6cdc3\",\"type\":\"BasicTickFormatter\"},\"plot\":{\"id\":\"0b1a4780-6156-4b9a-86de-62735aa7663d\",\"subtype\":\"Figure\",\"type\":\"Plot\"},\"ticker\":{\"id\":\"5d215302-ee34-4972-af40-df393753d102\",\"type\":\"BasicTicker\"}},\"id\":\"54a56691-c3a5-4bbd-b900-9b13a454b843\",\"type\":\"LinearAxis\"},{\"attributes\":{},\"id\":\"fbb1d732-8f85-4786-9fce-4941dadc946e\",\"type\":\"HelpTool\"},{\"attributes\":{},\"id\":\"fa8581db-9dbd-408a-8391-845f6a809e4c\",\"type\":\"WheelZoomTool\"},{\"attributes\":{\"dimension\":1,\"plot\":{\"id\":\"0b1a4780-6156-4b9a-86de-62735aa7663d\",\"subtype\":\"Figure\",\"type\":\"Plot\"},\"ticker\":{\"id\":\"b61c85d5-2b28-4d03-9faf-8f55ce15bfe7\",\"type\":\"BasicTicker\"}},\"id\":\"905ab154-01a6-4208-91cc-a6f12f943ec3\",\"type\":\"Grid\"},{\"attributes\":{\"source\":{\"id\":\"b848ce0c-1e75-462e-b248-0c40690ee796\",\"type\":\"ColumnDataSource\"}},\"id\":\"e9730531-cc96-4870-97e4-ee49bef05f90\",\"type\":\"CDSView\"},{\"attributes\":{},\"id\":\"86751d4d-24d7-41cc-a14d-297f554cc353\",\"type\":\"PanTool\"},{\"attributes\":{\"below\":[{\"id\":\"54a56691-c3a5-4bbd-b900-9b13a454b843\",\"type\":\"LinearAxis\"}],\"left\":[{\"id\":\"c994f038-6b88-4bea-9681-ee662c183ed1\",\"type\":\"LinearAxis\"}],\"plot_height\":400,\"plot_width\":400,\"renderers\":[{\"id\":\"54a56691-c3a5-4bbd-b900-9b13a454b843\",\"type\":\"LinearAxis\"},{\"id\":\"9204c297-750e-4317-938b-5525c983e3e6\",\"type\":\"Grid\"},{\"id\":\"c994f038-6b88-4bea-9681-ee662c183ed1\",\"type\":\"LinearAxis\"},{\"id\":\"905ab154-01a6-4208-91cc-a6f12f943ec3\",\"type\":\"Grid\"},{\"id\":\"81c9444c-0393-42db-ac94-4ca3c25f77be\",\"type\":\"BoxAnnotation\"},{\"id\":\"e7801483-4f2d-47ba-85a8-6224e5e09569\",\"type\":\"GlyphRenderer\"},{\"id\":\"5407802d-4920-4b9f-8896-f4afd891bf0d\",\"type\":\"GlyphRenderer\"}],\"title\":{\"id\":\"989ce6db-6982-488e-9f33-559d2f9711f2\",\"type\":\"Title\"},\"toolbar\":{\"id\":\"d898a2dc-6fb0-4b0c-8cc6-7141cb4e7aae\",\"type\":\"Toolbar\"},\"x_range\":{\"id\":\"3f4114e8-571d-46fc-8afd-fe574727d079\",\"type\":\"DataRange1d\"},\"x_scale\":{\"id\":\"9ac4076c-83b5-4705-9e47-b1ef40d9fa4d\",\"type\":\"LinearScale\"},\"y_range\":{\"id\":\"dab37325-ffcf-40f9-8051-106ac75aa4a4\",\"type\":\"DataRange1d\"},\"y_scale\":{\"id\":\"6c675884-6027-4b17-9086-19d00a723c2a\",\"type\":\"LinearScale\"}},\"id\":\"0b1a4780-6156-4b9a-86de-62735aa7663d\",\"subtype\":\"Figure\",\"type\":\"Plot\"},{\"attributes\":{\"active_drag\":\"auto\",\"active_inspect\":\"auto\",\"active_scroll\":\"auto\",\"active_tap\":\"auto\",\"tools\":[{\"id\":\"86751d4d-24d7-41cc-a14d-297f554cc353\",\"type\":\"PanTool\"},{\"id\":\"fa8581db-9dbd-408a-8391-845f6a809e4c\",\"type\":\"WheelZoomTool\"},{\"id\":\"cfad4bd2-f400-45b1-a7e0-1683cc94db27\",\"type\":\"BoxZoomTool\"},{\"id\":\"61961e6d-245c-4d07-aef3-51c6376606ad\",\"type\":\"SaveTool\"},{\"id\":\"18218cb3-7bbe-4f6d-80ce-eadf46859c7b\",\"type\":\"ResetTool\"},{\"id\":\"fbb1d732-8f85-4786-9fce-4941dadc946e\",\"type\":\"HelpTool\"}]},\"id\":\"d898a2dc-6fb0-4b0c-8cc6-7141cb4e7aae\",\"type\":\"Toolbar\"},{\"attributes\":{\"bottom_units\":\"screen\",\"fill_alpha\":{\"value\":0.5},\"fill_color\":{\"value\":\"lightgrey\"},\"left_units\":\"screen\",\"level\":\"overlay\",\"line_alpha\":{\"value\":1.0},\"line_color\":{\"value\":\"black\"},\"line_dash\":[4,4],\"line_width\":{\"value\":2},\"plot\":null,\"render_mode\":\"css\",\"right_units\":\"screen\",\"top_units\":\"screen\"},\"id\":\"81c9444c-0393-42db-ac94-4ca3c25f77be\",\"type\":\"BoxAnnotation\"},{\"attributes\":{\"line_alpha\":0.1,\"line_color\":\"#1f77b4\",\"line_width\":2,\"x\":{\"field\":\"x\"},\"y\":{\"field\":\"y\"}},\"id\":\"6eeb9376-82b6-4062-80b7-af5afb5fcd49\",\"type\":\"Line\"},{\"attributes\":{},\"id\":\"9ac4076c-83b5-4705-9e47-b1ef40d9fa4d\",\"type\":\"LinearScale\"},{\"attributes\":{\"plot\":{\"id\":\"0b1a4780-6156-4b9a-86de-62735aa7663d\",\"subtype\":\"Figure\",\"type\":\"Plot\"},\"ticker\":{\"id\":\"5d215302-ee34-4972-af40-df393753d102\",\"type\":\"BasicTicker\"}},\"id\":\"9204c297-750e-4317-938b-5525c983e3e6\",\"type\":\"Grid\"},{\"attributes\":{},\"id\":\"c2acd6b9-8081-4506-8fa6-c7d881769849\",\"type\":\"BasicTickFormatter\"},{\"attributes\":{},\"id\":\"963175fb-3f76-41f7-98e6-929795c6cdc3\",\"type\":\"BasicTickFormatter\"},{\"attributes\":{\"line_color\":\"#1f77b4\",\"line_width\":2,\"x\":{\"field\":\"x\"},\"y\":{\"field\":\"y\"}},\"id\":\"eaa58072-70ae-48ff-a438-6d1e352aaa12\",\"type\":\"Line\"},{\"attributes\":{\"callback\":null},\"id\":\"dab37325-ffcf-40f9-8051-106ac75aa4a4\",\"type\":\"DataRange1d\"},{\"attributes\":{},\"id\":\"5d215302-ee34-4972-af40-df393753d102\",\"type\":\"BasicTicker\"},{\"attributes\":{\"callback\":null},\"id\":\"3f4114e8-571d-46fc-8afd-fe574727d079\",\"type\":\"DataRange1d\"},{\"attributes\":{\"overlay\":{\"id\":\"81c9444c-0393-42db-ac94-4ca3c25f77be\",\"type\":\"BoxAnnotation\"}},\"id\":\"cfad4bd2-f400-45b1-a7e0-1683cc94db27\",\"type\":\"BoxZoomTool\"},{\"attributes\":{\"data_source\":{\"id\":\"b848ce0c-1e75-462e-b248-0c40690ee796\",\"type\":\"ColumnDataSource\"},\"glyph\":{\"id\":\"eaa58072-70ae-48ff-a438-6d1e352aaa12\",\"type\":\"Line\"},\"hover_glyph\":null,\"muted_glyph\":null,\"nonselection_glyph\":{\"id\":\"6eeb9376-82b6-4062-80b7-af5afb5fcd49\",\"type\":\"Line\"},\"selection_glyph\":null,\"view\":{\"id\":\"e9730531-cc96-4870-97e4-ee49bef05f90\",\"type\":\"CDSView\"}},\"id\":\"e7801483-4f2d-47ba-85a8-6224e5e09569\",\"type\":\"GlyphRenderer\"},{\"attributes\":{},\"id\":\"b61c85d5-2b28-4d03-9faf-8f55ce15bfe7\",\"type\":\"BasicTicker\"},{\"attributes\":{\"callback\":null,\"column_names\":[\"x\",\"y\"],\"data\":{\"x\":[1,2,3,4,5],\"y\":[6,7,8,7,3]}},\"id\":\"b848ce0c-1e75-462e-b248-0c40690ee796\",\"type\":\"ColumnDataSource\"},{\"attributes\":{},\"id\":\"18218cb3-7bbe-4f6d-80ce-eadf46859c7b\",\"type\":\"ResetTool\"},{\"attributes\":{\"fill_alpha\":{\"value\":0.1},\"fill_color\":{\"value\":\"#1f77b4\"},\"line_alpha\":{\"value\":0.1},\"line_color\":{\"value\":\"#1f77b4\"},\"size\":{\"units\":\"screen\",\"value\":10},\"x\":{\"field\":\"x\"},\"y\":{\"field\":\"y\"}},\"id\":\"8b3eec0a-268f-4870-828e-a9ad04018be9\",\"type\":\"InvertedTriangle\"},{\"attributes\":{},\"id\":\"61961e6d-245c-4d07-aef3-51c6376606ad\",\"type\":\"SaveTool\"},{\"attributes\":{\"fill_color\":{\"value\":\"red\"},\"line_color\":{\"value\":\"#1f77b4\"},\"size\":{\"units\":\"screen\",\"value\":10},\"x\":{\"field\":\"x\"},\"y\":{\"field\":\"y\"}},\"id\":\"46d41aac-9454-431b-bad6-c0f9b64d8a47\",\"type\":\"InvertedTriangle\"},{\"attributes\":{},\"id\":\"6c675884-6027-4b17-9086-19d00a723c2a\",\"type\":\"LinearScale\"},{\"attributes\":{\"source\":{\"id\":\"a886dd86-8449-4c7a-afba-dc31303b4b4f\",\"type\":\"ColumnDataSource\"}},\"id\":\"384f430d-ebb0-4c31-9c4e-91fad64c3c88\",\"type\":\"CDSView\"}],\"root_ids\":[\"0b1a4780-6156-4b9a-86de-62735aa7663d\"]},\"title\":\"Bokeh Application\",\"version\":\"0.12.14\"}};\n",
       "  var render_items = [{\"docid\":\"cd054ed2-8972-4cdb-8f5e-1b5c5361fe11\",\"elementid\":\"b709bfa9-2730-4719-a6d4-753bcd9f3037\",\"modelid\":\"0b1a4780-6156-4b9a-86de-62735aa7663d\"}];\n",
       "  root.Bokeh.embed.embed_items_notebook(docs_json, render_items);\n",
       "\n",
       "  }\n",
       "  if (root.Bokeh !== undefined) {\n",
       "    embed_document(root);\n",
       "  } else {\n",
       "    var attempts = 0;\n",
       "    var timer = setInterval(function(root) {\n",
       "      if (root.Bokeh !== undefined) {\n",
       "        embed_document(root);\n",
       "        clearInterval(timer);\n",
       "      }\n",
       "      attempts++;\n",
       "      if (attempts > 100) {\n",
       "        console.log(\"Bokeh: ERROR: Unable to run BokehJS code because BokehJS library is missing\")\n",
       "        clearInterval(timer);\n",
       "      }\n",
       "    }, 10, root)\n",
       "  }\n",
       "})(window);"
      ],
      "application/vnd.bokehjs_exec.v0+json": ""
     },
     "metadata": {
      "application/vnd.bokehjs_exec.v0+json": {
       "id": "0b1a4780-6156-4b9a-86de-62735aa7663d"
      }
     },
     "output_type": "display_data"
    }
   ],
   "source": [
    "# EXERCISE: create your own plot combining multiple glyphs together\n",
    "# set up some data\n",
    "x = [1, 2, 3, 4, 5]\n",
    "y = [6, 7, 8, 7, 3]\n",
    "\n",
    "# create a new plot with figure\n",
    "p = figure(plot_width=400, plot_height=400)\n",
    "\n",
    "# add both a line and circles on the same plot\n",
    "p.line(x, y, line_width=2)\n",
    "p.inverted_triangle(x, y, fill_color=\"red\", size=10)\n",
    "\n",
    "show(p) # show the results\n"
   ]
  },
  {
   "cell_type": "code",
   "execution_count": null,
   "metadata": {},
   "outputs": [],
   "source": []
  }
 ],
 "metadata": {
  "anaconda-cloud": {},
  "kernelspec": {
   "display_name": "Python 3",
   "language": "python",
   "name": "python3"
  },
  "language_info": {
   "codemirror_mode": {
    "name": "ipython",
    "version": 3
   },
   "file_extension": ".py",
   "mimetype": "text/x-python",
   "name": "python",
   "nbconvert_exporter": "python",
   "pygments_lexer": "ipython3",
   "version": "3.6.4"
  }
 },
 "nbformat": 4,
 "nbformat_minor": 1
}
