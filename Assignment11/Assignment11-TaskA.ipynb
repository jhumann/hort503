{
 "cells": [
  {
   "cell_type": "code",
   "execution_count": 1,
   "metadata": {},
   "outputs": [
    {
     "data": {
      "text/plain": [
       "[('zuck26', 'facebook', 'com'),\n",
       " ('page33', 'google', 'com'),\n",
       " ('jeff42', 'amazon', 'com')]"
      ]
     },
     "execution_count": 1,
     "metadata": {},
     "output_type": "execute_result"
    }
   ],
   "source": [
    "import re\n",
    "\n",
    "emails = \"\"\"zuck26@facebook.com\n",
    "page33@google.com\n",
    "jeff42@amazon.com\"\"\"\n",
    "\n",
    "# re.split('[@,\\.,\\n]', emails)\n",
    "\n",
    "pattern = '(\\w+)@(\\w+)\\.(\\w+)'\n",
    "re.findall(pattern, emails)"
   ]
  },
  {
   "cell_type": "code",
   "execution_count": 2,
   "metadata": {},
   "outputs": [
    {
     "data": {
      "text/plain": [
       "['Betty',\n",
       " 'bought',\n",
       " 'bit',\n",
       " 'butter',\n",
       " 'But',\n",
       " 'butter',\n",
       " 'bitter',\n",
       " 'bought',\n",
       " 'better',\n",
       " 'butter',\n",
       " 'bitter',\n",
       " 'butter',\n",
       " 'better']"
      ]
     },
     "execution_count": 2,
     "metadata": {},
     "output_type": "execute_result"
    }
   ],
   "source": [
    "text = \"\"\"Betty bought a bit of butter, But the butter was so bitter, So she bought some better butter, To make the bitter butter better.\"\"\"\n",
    "\n",
    "re.findall(r'\\bB\\w+', text, flags=re.IGNORECASE)"
   ]
  },
  {
   "cell_type": "code",
   "execution_count": 3,
   "metadata": {},
   "outputs": [
    {
     "data": {
      "text/plain": [
       "'A very very irregular sentence'"
      ]
     },
     "execution_count": 3,
     "metadata": {},
     "output_type": "execute_result"
    }
   ],
   "source": [
    "sentence = \"\"\"A, very   very; irregular_sentence\"\"\"\n",
    "\n",
    "# re.sub('[\\s\\,\\;\\_]+', ' ', sentence)\n",
    "\n",
    "\" \".join(re.split('[;,\\s_]+', sentence))"
   ]
  },
  {
   "cell_type": "code",
   "execution_count": 20,
   "metadata": {},
   "outputs": [
    {
     "name": "stdout",
     "output_type": "stream",
     "text": [
      "Good advice What I would do differently if I was learning to code today \n"
     ]
    }
   ],
   "source": [
    "tweet = '''Good advice! RT @TheNextWeb: What I would do differently if I was learning to code today http://t.co/lbwej0pxOd cc: @garybernhardt #rstats'''\n",
    "\n",
    "def cleanTweet(tweet):\n",
    "    tweet = re.sub('http\\S+\\s*', '', tweet)\n",
    "    tweet = re.sub('RT|cc', '', tweet)\n",
    "    tweet = re.sub('@\\S+', '', tweet)\n",
    "    tweet = re.sub('#\\S+', '', tweet)\n",
    "    tweet = re.sub('[!:\\s]+', ' ', tweet)\n",
    "    return tweet\n",
    "    \n",
    "print(cleanTweet(tweet))"
   ]
  },
  {
   "cell_type": "code",
   "execution_count": 22,
   "metadata": {},
   "outputs": [
    {
     "data": {
      "text/plain": [
       "['Your Title Here',\n",
       " 'Link Name',\n",
       " 'This is a Header',\n",
       " 'This is a Medium Header',\n",
       " 'This is a new paragraph! ',\n",
       " 'This is a another paragraph!',\n",
       " 'This is a new sentence without a paragraph break, in bold italics.']"
      ]
     },
     "execution_count": 22,
     "metadata": {},
     "output_type": "execute_result"
    }
   ],
   "source": [
    "import requests\n",
    "r = requests.get(\"https://raw.githubusercontent.com/selva86/datasets/master/sample.html\")\n",
    "r.text \n",
    "\n",
    "re.findall('<.*?>(.*)<\\/.*?>', r.text)"
   ]
  },
  {
   "cell_type": "code",
   "execution_count": null,
   "metadata": {},
   "outputs": [],
   "source": []
  }
 ],
 "metadata": {
  "kernelspec": {
   "display_name": "Python 3",
   "language": "python",
   "name": "python3"
  },
  "language_info": {
   "codemirror_mode": {
    "name": "ipython",
    "version": 3
   },
   "file_extension": ".py",
   "mimetype": "text/x-python",
   "name": "python",
   "nbconvert_exporter": "python",
   "pygments_lexer": "ipython3",
   "version": "3.6.4"
  }
 },
 "nbformat": 4,
 "nbformat_minor": 2
}
